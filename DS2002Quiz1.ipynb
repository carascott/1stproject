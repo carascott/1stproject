{
  "nbformat": 4,
  "nbformat_minor": 0,
  "metadata": {
    "colab": {
      "provenance": [],
      "authorship_tag": "ABX9TyPdj6P6z3suh30j9HZjDHIH",
      "include_colab_link": true
    },
    "kernelspec": {
      "name": "python3",
      "display_name": "Python 3"
    },
    "language_info": {
      "name": "python"
    }
  },
  "cells": [
    {
      "cell_type": "markdown",
      "metadata": {
        "id": "view-in-github",
        "colab_type": "text"
      },
      "source": [
        "<a href=\"https://colab.research.google.com/github/carascott/1stproject/blob/main/DS2002Quiz1.ipynb\" target=\"_parent\"><img src=\"https://colab.research.google.com/assets/colab-badge.svg\" alt=\"Open In Colab\"/></a>"
      ]
    },
    {
      "cell_type": "code",
      "source": [
        "import sqlite3\n",
        "connection = sqlite3.connect('ice_cream_shop.db')\n",
        "print(\"Database created and connected!\")"
      ],
      "metadata": {
        "colab": {
          "base_uri": "https://localhost:8080/"
        },
        "id": "v_Dq9dsL1cgN",
        "outputId": "256efcca-4d1b-44c6-c991-7a1548d2ae39"
      },
      "execution_count": 1,
      "outputs": [
        {
          "output_type": "stream",
          "name": "stdout",
          "text": [
            "Database created and connected!\n"
          ]
        }
      ]
    },
    {
      "cell_type": "code",
      "source": [
        "cursor = connection.cursor()\n",
        "print(\"Cursor created!\")"
      ],
      "metadata": {
        "colab": {
          "base_uri": "https://localhost:8080/"
        },
        "id": "tYsb_DLI13hn",
        "outputId": "f1d56c99-84d6-462b-d001-160192c01636"
      },
      "execution_count": 2,
      "outputs": [
        {
          "output_type": "stream",
          "name": "stdout",
          "text": [
            "Cursor created!\n"
          ]
        }
      ]
    },
    {
      "cell_type": "code",
      "execution_count": 5,
      "metadata": {
        "colab": {
          "base_uri": "https://localhost:8080/"
        },
        "id": "1PPUyJ1u1ViD",
        "outputId": "7b225011-2208-486f-9b7c-49ff4131dbe9"
      },
      "outputs": [
        {
          "output_type": "stream",
          "name": "stdout",
          "text": [
            "Products table created!\n",
            "Customers table created!\n",
            "Orders table created!\n",
            "Order Details table created!\n",
            "Inventory table created!\n"
          ]
        }
      ],
      "source": [
        "cursor.execute(''' CREATE TABLE Products (\n",
        "ProductID INTEGER PRIMARY KEY AUTOINCREMENT,\n",
        "Name VARCHAR(100) NOT NULL,\n",
        "Description TEXT,\n",
        "Price DECIMAL(5, 2) NOT NULL,\n",
        "Stock INT NOT NULL,\n",
        "Category VARCHAR(50) NOT NULL\n",
        ")\n",
        "''')\n",
        "print(\"Products table created!\")\n",
        "\n",
        "cursor.execute(''' CREATE TABLE Customers (\n",
        "CustomerID INTEGER PRIMARY KEY AUTOINCREMENT,\n",
        "FirstName VARCHAR(50) NOT NULL,\n",
        "LastName VARCHAR(50) NOT NULL,\n",
        "Email VARCHAR(100),\n",
        "Phone VARCHAR(20),\n",
        "Address VARCHAR(255),\n",
        "City VARCHAR(100),\n",
        "PostalCode VARCHAR(10),\n",
        "Country VARCHAR(50) NOT NULL\n",
        ")\n",
        "''')\n",
        "print(\"Customers table created!\")\n",
        "\n",
        "cursor.execute(''' CREATE TABLE Orders (\n",
        "OrderID INTEGER PRIMARY KEY AUTOINCREMENT,\n",
        "CustomerID INT,\n",
        "OrderDate DATETIME DEFAULT CURRENT_TIMESTAMP,\n",
        "TotalAmount DECIMAL(7, 2) NOT NULL,\n",
        "Status VARCHAR(20) NOT NULL DEFAULT 'Pending',\n",
        "FOREIGN KEY (CustomerID) REFERENCES Customers(CustomerID)\n",
        ")\n",
        "''')\n",
        "print(\"Orders table created!\")\n",
        "\n",
        "cursor.execute(''' CREATE TABLE OrderDetails (\n",
        "OrderDetailID INTEGER PRIMARY KEY AUTOINCREMENT,\n",
        "OrderID INT,\n",
        "ProductID INT,\n",
        "Quantity INT NOT NULL,\n",
        "Price DECIMAL(5, 2) NOT NULL,\n",
        "FOREIGN KEY (OrderID) REFERENCES Orders(OrderID),\n",
        "FOREIGN KEY (ProductID) REFERENCES Products(ProductID)\n",
        ")\n",
        "''')\n",
        "print(\"Order Details table created!\")\n",
        "\n",
        "cursor.execute(''' CREATE TABLE Inventory (\n",
        "InventoryID INTEGER PRIMARY KEY AUTOINCREMENT,\n",
        "ProductID INT,\n",
        "QuantityInStock INT NOT NULL,\n",
        "LastRestockDate DATE,\n",
        "FOREIGN KEY (ProductID) REFERENCES Products(ProductID)\n",
        ")\n",
        "''')\n",
        "print(\"Inventory table created!\")"
      ]
    },
    {
      "cell_type": "code",
      "source": [
        "cursor.execute('''\n",
        "SELECT ProductID, Name, Description, Price, Stock, Category\n",
        "FROM Products\n",
        "WHERE Stock > 0;\n",
        "''')\n",
        "\n",
        "stock = cursor.fetchall()\n",
        "\n",
        "print(\"Products currently in stock:\")\n",
        "print(\"\")\n",
        "for product in stock:\n",
        "    print(product)"
      ],
      "metadata": {
        "colab": {
          "base_uri": "https://localhost:8080/"
        },
        "id": "DMwkFFJF3Jbu",
        "outputId": "15d2f8ce-94af-43df-b169-ea04679932ab"
      },
      "execution_count": 6,
      "outputs": [
        {
          "output_type": "stream",
          "name": "stdout",
          "text": [
            "Products currently in stock:\n"
          ]
        }
      ]
    },
    {
      "cell_type": "code",
      "source": [
        "cursor.execute('''\n",
        "SELECT CustomerID, FirstName, LastName, Email, Phone, Address, City, PostalCode, Country\n",
        "FROM Customers\n",
        "WHERE City = 'New York';\n",
        "''')\n",
        "\n",
        "nycustomer = cursor.fetchall()\n",
        "\n",
        "print(\"Customers living in New York City:\")\n",
        "print(\"\")\n",
        "for customer in nycustomer:\n",
        "    print(customer)"
      ],
      "metadata": {
        "colab": {
          "base_uri": "https://localhost:8080/"
        },
        "id": "UW4-_kl83x2w",
        "outputId": "d67513c8-c60e-451e-9124-a2fc63c987bc"
      },
      "execution_count": 8,
      "outputs": [
        {
          "output_type": "stream",
          "name": "stdout",
          "text": [
            "Customers living in New York City:\n",
            "\n"
          ]
        }
      ]
    },
    {
      "cell_type": "code",
      "source": [
        "cursor.execute('''\n",
        "SELECT\n",
        "    Customers.FirstName || ' ' || Customers.LastName AS CustomerName,\n",
        "    Products.Name AS ProductName,\n",
        "    OrderDetails.Quantity\n",
        "FROM\n",
        "    OrderDetails\n",
        "JOIN\n",
        "    Orders ON OrderDetails.OrderID = Orders.OrderID\n",
        "JOIN\n",
        "    Customers ON Orders.CustomerID = Customers.CustomerID\n",
        "JOIN\n",
        "    Products ON OrderDetails.ProductID = Products.ProductID\n",
        "''')\n",
        "\n",
        "details = cursor.fetchall()\n",
        "\n",
        "print(\"Order Details:\")\n",
        "print(\"\")\n",
        "for detail in details:\n",
        "    print(f\"Customer: {detail[0]}, Product: {detail[1]}, Quantity Ordered: {detail[2]}\")"
      ],
      "metadata": {
        "colab": {
          "base_uri": "https://localhost:8080/"
        },
        "id": "fECOgGBm4W8R",
        "outputId": "fb83e93d-3560-4dfa-ef4b-e34146a4859b"
      },
      "execution_count": 10,
      "outputs": [
        {
          "output_type": "stream",
          "name": "stdout",
          "text": [
            "Order Details:\n",
            "\n"
          ]
        }
      ]
    },
    {
      "cell_type": "code",
      "source": [],
      "metadata": {
        "id": "nx_gOwJD4xnW"
      },
      "execution_count": null,
      "outputs": []
    }
  ]
}