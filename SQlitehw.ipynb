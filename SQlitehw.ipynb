{
  "nbformat": 4,
  "nbformat_minor": 0,
  "metadata": {
    "colab": {
      "provenance": [],
      "authorship_tag": "ABX9TyOHmhZSCNZWcsze3Jf9R7mv",
      "include_colab_link": true
    },
    "kernelspec": {
      "name": "python3",
      "display_name": "Python 3"
    },
    "language_info": {
      "name": "python"
    }
  },
  "cells": [
    {
      "cell_type": "markdown",
      "metadata": {
        "id": "view-in-github",
        "colab_type": "text"
      },
      "source": [
        "<a href=\"https://colab.research.google.com/github/carascott/1stproject/blob/main/SQlitehw.ipynb\" target=\"_parent\"><img src=\"https://colab.research.google.com/assets/colab-badge.svg\" alt=\"Open In Colab\"/></a>"
      ]
    },
    {
      "cell_type": "markdown",
      "source": [
        "Question 1"
      ],
      "metadata": {
        "id": "-AGK2f6ngt4F"
      }
    },
    {
      "cell_type": "code",
      "execution_count": 108,
      "metadata": {
        "colab": {
          "base_uri": "https://localhost:8080/"
        },
        "id": "IbkJ0ybdcsgr",
        "outputId": "8bd826e3-7f2c-4cd3-cb2f-192b31cb95a6"
      },
      "outputs": [
        {
          "output_type": "stream",
          "name": "stdout",
          "text": [
            "Database created and connected!\n"
          ]
        }
      ],
      "source": [
        "import sqlite3\n",
        "from collections import defaultdict\n",
        "\n",
        "connection = sqlite3.connect('student_grades.db')\n",
        "\n",
        "print(\"Database created and connected!\")"
      ]
    },
    {
      "cell_type": "code",
      "source": [
        "cursor = connection.cursor()\n",
        "\n",
        "print(\"Cursor created!\")"
      ],
      "metadata": {
        "colab": {
          "base_uri": "https://localhost:8080/"
        },
        "id": "5Iedx8szcwV2",
        "outputId": "480d481e-f204-4242-b4f7-10d37a369ef2"
      },
      "execution_count": 109,
      "outputs": [
        {
          "output_type": "stream",
          "name": "stdout",
          "text": [
            "Cursor created!\n"
          ]
        }
      ]
    },
    {
      "cell_type": "markdown",
      "source": [
        "Question 2"
      ],
      "metadata": {
        "id": "KJxE_HWRgx6k"
      }
    },
    {
      "cell_type": "code",
      "source": [
        "cursor.execute('''\n",
        "CREATE TABLE IF NOT EXISTS students (\n",
        "    student_id INTEGER PRIMARY KEY AUTOINCREMENT,\n",
        "    first_name TEXT NOT NULL,\n",
        "    last_name TEXT NOT NULL\n",
        ")\n",
        "''')\n",
        "\n",
        "print(\"Students table created!\")"
      ],
      "metadata": {
        "colab": {
          "base_uri": "https://localhost:8080/"
        },
        "id": "BjQ3KRl9cyX9",
        "outputId": "29dda4fd-e6a3-4431-ab49-1179d1e3ce6e"
      },
      "execution_count": 110,
      "outputs": [
        {
          "output_type": "stream",
          "name": "stdout",
          "text": [
            "Students table created!\n"
          ]
        }
      ]
    },
    {
      "cell_type": "code",
      "source": [
        "cursor.close()\n",
        "\n",
        "print(\"Cursor closed!\")"
      ],
      "metadata": {
        "colab": {
          "base_uri": "https://localhost:8080/"
        },
        "id": "XhH76wugc0uD",
        "outputId": "140e3d0e-b6b1-44a3-c456-4144a8a5281e"
      },
      "execution_count": 111,
      "outputs": [
        {
          "output_type": "stream",
          "name": "stdout",
          "text": [
            "Cursor closed!\n"
          ]
        }
      ]
    },
    {
      "cell_type": "code",
      "source": [
        "cursor = connection.cursor()\n",
        "\n",
        "print(\"Cursor created!\")\n",
        "cursor.execute('''\n",
        "CREATE TABLE IF NOT EXISTS students (\n",
        "    student_id INTEGER PRIMARY KEY AUTOINCREMENT,\n",
        "    first_name TEXT NOT NULL,\n",
        "    last_name TEXT NOT NULL\n",
        ")\n",
        "''')\n",
        "\n",
        "print(\"Students table created!\")"
      ],
      "metadata": {
        "colab": {
          "base_uri": "https://localhost:8080/"
        },
        "id": "A7Q-fD16dICL",
        "outputId": "bb85f034-4cf7-4469-ec19-4456b830d8e0"
      },
      "execution_count": 112,
      "outputs": [
        {
          "output_type": "stream",
          "name": "stdout",
          "text": [
            "Cursor created!\n",
            "Students table created!\n"
          ]
        }
      ]
    },
    {
      "cell_type": "code",
      "source": [
        "cursor.execute('''\n",
        "CREATE TABLE IF NOT EXISTS grades (\n",
        "    grade_id INTEGER PRIMARY KEY AUTOINCREMENT,\n",
        "    student_id INTEGER,\n",
        "    subject TEXT NOT NULL,\n",
        "    grade INTEGER,\n",
        "    FOREIGN KEY (student_id) REFERENCES students (student_id)\n",
        ")\n",
        "''')\n",
        "\n",
        "print(\"Grades table created!\")"
      ],
      "metadata": {
        "colab": {
          "base_uri": "https://localhost:8080/"
        },
        "id": "XGBNhrR0dK3-",
        "outputId": "83ff42d3-0d28-45c9-ea33-be67efbb7a15"
      },
      "execution_count": 113,
      "outputs": [
        {
          "output_type": "stream",
          "name": "stdout",
          "text": [
            "Grades table created!\n"
          ]
        }
      ]
    },
    {
      "cell_type": "markdown",
      "source": [
        "Question 3"
      ],
      "metadata": {
        "id": "XWidJiqXg4iB"
      }
    },
    {
      "cell_type": "code",
      "source": [
        "students_data = [\n",
        "    ('Alice', 'Johnson'),\n",
        "    ('Bob', 'Smith'),\n",
        "    ('Carol','White'),\n",
        "    ('David', 'Brown'),\n",
        "    ('Eve', 'Davis')\n",
        "]\n",
        "\n",
        "cursor.executemany('''\n",
        "INSERT INTO students (first_name, last_name) VALUES (?, ?)\n",
        "''', students_data)\n",
        "\n",
        "connection.commit()\n",
        "\n",
        "print(\"Data inserted into the students table!\")"
      ],
      "metadata": {
        "colab": {
          "base_uri": "https://localhost:8080/"
        },
        "id": "t-HqKHH3dNSe",
        "outputId": "e06c845b-2c8a-4a77-b8c7-4990f493a043"
      },
      "execution_count": 114,
      "outputs": [
        {
          "output_type": "stream",
          "name": "stdout",
          "text": [
            "Data inserted into the students table!\n"
          ]
        }
      ]
    },
    {
      "cell_type": "code",
      "source": [
        "grades_data = [\n",
        "    (1, 'Math', 95),\n",
        "    (1, 'English', 88),\n",
        "    (1, 'History', 90),\n",
        "    (2, 'Math', 82),\n",
        "    (2, 'English', 76),\n",
        "    (2, 'History', 85),\n",
        "    (3, 'Math', 75),\n",
        "    (3, 'English', 81),\n",
        "    (3, 'History', 85),\n",
        "    (4, 'Math', 98),\n",
        "    (4, 'English', 100),\n",
        "    (4, 'History', 97),\n",
        "    (5, 'Math', 88),\n",
        "    (5, 'English', 90),\n",
        "    (5, 'History',92)\n",
        "]\n",
        "\n",
        "cursor.executemany('''\n",
        "INSERT INTO grades (student_id, subject, grade) VALUES (?, ?, ?)\n",
        "''', grades_data)\n",
        "\n",
        "connection.commit()\n",
        "\n",
        "print(\"Data inserted into the grades table!\")"
      ],
      "metadata": {
        "colab": {
          "base_uri": "https://localhost:8080/"
        },
        "id": "KcRhxzH6dWOW",
        "outputId": "fa180929-a2d6-42ee-cb15-8157ea4de177"
      },
      "execution_count": 115,
      "outputs": [
        {
          "output_type": "stream",
          "name": "stdout",
          "text": [
            "Data inserted into the grades table!\n"
          ]
        }
      ]
    },
    {
      "cell_type": "code",
      "source": [
        "cursor.execute(\"SELECT * FROM students\")\n",
        "rows = cursor.fetchall()\n",
        "\n",
        "print(\"All students data:\")\n",
        "for row in rows:\n",
        "    print(row)"
      ],
      "metadata": {
        "colab": {
          "base_uri": "https://localhost:8080/"
        },
        "id": "zmgK21a2gRaR",
        "outputId": "9794c0c6-f831-4485-aaff-6713c4b23b7d"
      },
      "execution_count": 116,
      "outputs": [
        {
          "output_type": "stream",
          "name": "stdout",
          "text": [
            "All students data:\n",
            "(1, 'Alice', 'Johnson')\n",
            "(2, 'Bob', 'Smith')\n",
            "(3, 'Csarol', 'White')\n",
            "(4, 'David', 'Brown')\n",
            "(5, 'Eve', 'Davis')\n",
            "(6, 'Alice', 'Johnson')\n",
            "(7, 'Bob', 'Smith')\n",
            "(8, 'Csarol', 'White')\n",
            "(9, 'David', 'Brown')\n",
            "(10, 'Eve', 'Davis')\n",
            "(11, 'Alice', 'Johnson')\n",
            "(12, 'Bob', 'Smith')\n",
            "(13, 'Carol', 'White')\n",
            "(14, 'David', 'Brown')\n",
            "(15, 'Eve', 'Davis')\n",
            "(16, 'Alice', 'Johnson')\n",
            "(17, 'Bob', 'Smith')\n",
            "(18, 'Carol', 'White')\n",
            "(19, 'David', 'Brown')\n",
            "(20, 'Eve', 'Davis')\n",
            "(21, 'Alice', 'Johnson')\n",
            "(22, 'Bob', 'Smith')\n",
            "(23, 'Carol', 'White')\n",
            "(24, 'David', 'Brown')\n",
            "(25, 'Eve', 'Davis')\n",
            "(26, 'Alice', 'Johnson')\n",
            "(27, 'Bob', 'Smith')\n",
            "(28, 'Carol', 'White')\n",
            "(29, 'David', 'Brown')\n",
            "(30, 'Eve', 'Davis')\n",
            "(31, 'Alice', 'Johnson')\n",
            "(32, 'Bob', 'Smith')\n",
            "(33, 'Carol', 'White')\n",
            "(34, 'David', 'Brown')\n",
            "(35, 'Eve', 'Davis')\n"
          ]
        }
      ]
    },
    {
      "cell_type": "code",
      "source": [
        "cursor.execute(\"SELECT * FROM grades\")\n",
        "rows = cursor.fetchall()\n",
        "\n",
        "print(\"All grades data:\")\n",
        "for row in rows:\n",
        "    print(row)"
      ],
      "metadata": {
        "colab": {
          "base_uri": "https://localhost:8080/"
        },
        "id": "hiAfH-0igXb7",
        "outputId": "7e6ca72e-b6e7-40ec-ba8b-36791d248600"
      },
      "execution_count": 102,
      "outputs": [
        {
          "output_type": "stream",
          "name": "stdout",
          "text": [
            "All grades data:\n",
            "(1, 1, 'Math', 95)\n",
            "(2, 1, 'English', 88)\n",
            "(3, 1, 'History', 90)\n",
            "(4, 2, 'Math', 82)\n",
            "(5, 2, 'English', 76)\n",
            "(6, 2, 'History', 85)\n",
            "(7, 3, 'Math', 75)\n",
            "(8, 3, 'English', 81)\n",
            "(9, 3, 'History', 85)\n",
            "(10, 4, 'Math', 98)\n",
            "(11, 4, 'English', 100)\n",
            "(12, 4, 'History', 97)\n",
            "(13, 5, 'Math', 88)\n",
            "(14, 5, 'English', 90)\n",
            "(15, 5, 'History', 92)\n",
            "(16, 1, 'Math', 95)\n",
            "(17, 1, 'English', 88)\n",
            "(18, 1, 'History', 90)\n",
            "(19, 2, 'Math', 82)\n",
            "(20, 2, 'English', 76)\n",
            "(21, 2, 'History', 85)\n",
            "(22, 3, 'Math', 75)\n",
            "(23, 3, 'English', 81)\n",
            "(24, 3, 'History', 85)\n",
            "(25, 4, 'Math', 98)\n",
            "(26, 4, 'English', 100)\n",
            "(27, 4, 'History', 97)\n",
            "(28, 5, 'Math', 88)\n",
            "(29, 5, 'English', 90)\n",
            "(30, 5, 'History', 92)\n",
            "(31, 1, 'Math', 95)\n",
            "(32, 1, 'English', 88)\n",
            "(33, 1, 'History', 90)\n",
            "(34, 2, 'Math', 82)\n",
            "(35, 2, 'English', 76)\n",
            "(36, 2, 'History', 85)\n",
            "(37, 3, 'Math', 75)\n",
            "(38, 3, 'English', 81)\n",
            "(39, 3, 'History', 85)\n",
            "(40, 4, 'Math', 98)\n",
            "(41, 4, 'English', 100)\n",
            "(42, 4, 'History', 97)\n",
            "(43, 5, 'Math', 88)\n",
            "(44, 5, 'English', 90)\n",
            "(45, 5, 'History', 92)\n",
            "(46, 1, 'Math', 95)\n",
            "(47, 1, 'English', 88)\n",
            "(48, 1, 'History', 90)\n",
            "(49, 2, 'Math', 82)\n",
            "(50, 2, 'English', 76)\n",
            "(51, 2, 'History', 85)\n",
            "(52, 3, 'Math', 75)\n",
            "(53, 3, 'English', 81)\n",
            "(54, 3, 'History', 85)\n",
            "(55, 4, 'Math', 98)\n",
            "(56, 4, 'English', 100)\n",
            "(57, 4, 'History', 97)\n",
            "(58, 5, 'Math', 88)\n",
            "(59, 5, 'English', 90)\n",
            "(60, 5, 'History', 92)\n",
            "(61, 1, 'Math', 95)\n",
            "(62, 1, 'English', 88)\n",
            "(63, 1, 'History', 90)\n",
            "(64, 2, 'Math', 82)\n",
            "(65, 2, 'English', 76)\n",
            "(66, 2, 'History', 85)\n",
            "(67, 3, 'Math', 75)\n",
            "(68, 3, 'English', 81)\n",
            "(69, 3, 'History', 85)\n",
            "(70, 4, 'Math', 98)\n",
            "(71, 4, 'English', 100)\n",
            "(72, 4, 'History', 97)\n",
            "(73, 5, 'Math', 88)\n",
            "(74, 5, 'English', 90)\n",
            "(75, 5, 'History', 92)\n"
          ]
        }
      ]
    },
    {
      "cell_type": "markdown",
      "source": [
        "Question 4"
      ],
      "metadata": {
        "id": "Z74M3SROg7aj"
      }
    },
    {
      "cell_type": "code",
      "source": [
        "# 1\n",
        "cursor.execute('''\n",
        "SELECT s.first_name, s.last_name, g.subject, g.grade\n",
        "FROM students s\n",
        "JOIN grades g ON s.student_id = g.student_id\n",
        "''')\n",
        "\n",
        "results = cursor.fetchall()\n",
        "for row in results:\n",
        "    print(row)"
      ],
      "metadata": {
        "colab": {
          "base_uri": "https://localhost:8080/"
        },
        "id": "dWCIyfAanUhW",
        "outputId": "941b6f47-c1b5-4286-8f3a-fd9d71d4dfda"
      },
      "execution_count": 103,
      "outputs": [
        {
          "output_type": "stream",
          "name": "stdout",
          "text": [
            "('Alice', 'Johnson', 'Math', 95)\n",
            "('Alice', 'Johnson', 'English', 88)\n",
            "('Alice', 'Johnson', 'History', 90)\n",
            "('Bob', 'Smith', 'Math', 82)\n",
            "('Bob', 'Smith', 'English', 76)\n",
            "('Bob', 'Smith', 'History', 85)\n",
            "('Csarol', 'White', 'Math', 75)\n",
            "('Csarol', 'White', 'English', 81)\n",
            "('Csarol', 'White', 'History', 85)\n",
            "('David', 'Brown', 'Math', 98)\n",
            "('David', 'Brown', 'English', 100)\n",
            "('David', 'Brown', 'History', 97)\n",
            "('Eve', 'Davis', 'Math', 88)\n",
            "('Eve', 'Davis', 'English', 90)\n",
            "('Eve', 'Davis', 'History', 92)\n",
            "('Alice', 'Johnson', 'Math', 95)\n",
            "('Alice', 'Johnson', 'English', 88)\n",
            "('Alice', 'Johnson', 'History', 90)\n",
            "('Bob', 'Smith', 'Math', 82)\n",
            "('Bob', 'Smith', 'English', 76)\n",
            "('Bob', 'Smith', 'History', 85)\n",
            "('Csarol', 'White', 'Math', 75)\n",
            "('Csarol', 'White', 'English', 81)\n",
            "('Csarol', 'White', 'History', 85)\n",
            "('David', 'Brown', 'Math', 98)\n",
            "('David', 'Brown', 'English', 100)\n",
            "('David', 'Brown', 'History', 97)\n",
            "('Eve', 'Davis', 'Math', 88)\n",
            "('Eve', 'Davis', 'English', 90)\n",
            "('Eve', 'Davis', 'History', 92)\n",
            "('Alice', 'Johnson', 'Math', 95)\n",
            "('Alice', 'Johnson', 'English', 88)\n",
            "('Alice', 'Johnson', 'History', 90)\n",
            "('Bob', 'Smith', 'Math', 82)\n",
            "('Bob', 'Smith', 'English', 76)\n",
            "('Bob', 'Smith', 'History', 85)\n",
            "('Csarol', 'White', 'Math', 75)\n",
            "('Csarol', 'White', 'English', 81)\n",
            "('Csarol', 'White', 'History', 85)\n",
            "('David', 'Brown', 'Math', 98)\n",
            "('David', 'Brown', 'English', 100)\n",
            "('David', 'Brown', 'History', 97)\n",
            "('Eve', 'Davis', 'Math', 88)\n",
            "('Eve', 'Davis', 'English', 90)\n",
            "('Eve', 'Davis', 'History', 92)\n",
            "('Alice', 'Johnson', 'Math', 95)\n",
            "('Alice', 'Johnson', 'English', 88)\n",
            "('Alice', 'Johnson', 'History', 90)\n",
            "('Bob', 'Smith', 'Math', 82)\n",
            "('Bob', 'Smith', 'English', 76)\n",
            "('Bob', 'Smith', 'History', 85)\n",
            "('Csarol', 'White', 'Math', 75)\n",
            "('Csarol', 'White', 'English', 81)\n",
            "('Csarol', 'White', 'History', 85)\n",
            "('David', 'Brown', 'Math', 98)\n",
            "('David', 'Brown', 'English', 100)\n",
            "('David', 'Brown', 'History', 97)\n",
            "('Eve', 'Davis', 'Math', 88)\n",
            "('Eve', 'Davis', 'English', 90)\n",
            "('Eve', 'Davis', 'History', 92)\n",
            "('Alice', 'Johnson', 'Math', 95)\n",
            "('Alice', 'Johnson', 'English', 88)\n",
            "('Alice', 'Johnson', 'History', 90)\n",
            "('Bob', 'Smith', 'Math', 82)\n",
            "('Bob', 'Smith', 'English', 76)\n",
            "('Bob', 'Smith', 'History', 85)\n",
            "('Csarol', 'White', 'Math', 75)\n",
            "('Csarol', 'White', 'English', 81)\n",
            "('Csarol', 'White', 'History', 85)\n",
            "('David', 'Brown', 'Math', 98)\n",
            "('David', 'Brown', 'English', 100)\n",
            "('David', 'Brown', 'History', 97)\n",
            "('Eve', 'Davis', 'Math', 88)\n",
            "('Eve', 'Davis', 'English', 90)\n",
            "('Eve', 'Davis', 'History', 92)\n"
          ]
        }
      ]
    },
    {
      "cell_type": "code",
      "source": [
        "# 2\n",
        "cursor.execute('''\n",
        "SELECT s.first_name, s.last_name, AVG(g.grade) AS average_grade\n",
        "FROM students s\n",
        "JOIN grades g ON s.student_id = g.student_id\n",
        "GROUP BY s.student_id, s.first_name, s.last_name\n",
        "''')\n",
        "\n",
        "results = cursor.fetchall()\n",
        "\n",
        "print(\"Student & Their Average Grade \")\n",
        "print(\"\")\n",
        "for row in results:\n",
        "    first_name, last_name, average_grade = row\n",
        "    print(f\"{first_name} {last_name}: {average_grade:.2f}\")"
      ],
      "metadata": {
        "colab": {
          "base_uri": "https://localhost:8080/"
        },
        "id": "YpCMTYY_oC2Y",
        "outputId": "16cecfc3-8bdd-4d94-9ddc-ed873bd607ce"
      },
      "execution_count": 77,
      "outputs": [
        {
          "output_type": "stream",
          "name": "stdout",
          "text": [
            "Student & Their Average Grade \n",
            "\n",
            "Alice Johnson: 91.00\n",
            "Bob Smith: 81.00\n",
            "Csarol White: 80.33\n",
            "David Brown: 98.33\n",
            "Eve Davis: 90.00\n"
          ]
        }
      ]
    },
    {
      "cell_type": "code",
      "source": [
        "# 3\n",
        "cursor.execute('''\n",
        "SELECT s.first_name, s.last_name, AVG(g.grade) AS average_grade\n",
        "FROM students s\n",
        "JOIN grades g ON s.student_id = g.student_id\n",
        "GROUP BY s.student_id, s.first_name, s.last_name\n",
        "ORDER BY average_grade DESC\n",
        "LIMIT 1\n",
        "''')\n",
        "\n",
        "result = cursor.fetchall()\n",
        "\n",
        "print(\"Student with the Highest Average Grade \")\n",
        "print(\"\")\n",
        "print(f\"{first_name} {last_name}: {average_grade:.2f}\")"
      ],
      "metadata": {
        "colab": {
          "base_uri": "https://localhost:8080/"
        },
        "id": "zGbhfnrzpat2",
        "outputId": "1d1f4e6b-78a5-4426-c5b5-561623e43ecf"
      },
      "execution_count": 78,
      "outputs": [
        {
          "output_type": "stream",
          "name": "stdout",
          "text": [
            "Student with the Highest Average Grade \n",
            "\n",
            "Eve Davis: 90.00\n"
          ]
        }
      ]
    },
    {
      "cell_type": "code",
      "source": [
        "# 4\n",
        "cursor.execute('''\n",
        "SELECT AVG(g.grade) AS average_math_grade\n",
        "FROM grades g\n",
        "WHERE g.subject = 'Math'\n",
        "''')\n",
        "\n",
        "result = cursor.fetchone()\n",
        "average_math_grade = result[0]\n",
        "print(\"Average Math Grade:\", average_math_grade)"
      ],
      "metadata": {
        "colab": {
          "base_uri": "https://localhost:8080/"
        },
        "id": "OFYIZHzAqIrP",
        "outputId": "3f311c00-c900-48ce-aade-30b89df855cf"
      },
      "execution_count": 79,
      "outputs": [
        {
          "output_type": "stream",
          "name": "stdout",
          "text": [
            "Average Math Grade: 87.6\n"
          ]
        }
      ]
    },
    {
      "cell_type": "code",
      "source": [
        "# 5\n",
        "cursor.execute('''\n",
        "SELECT DISTINCT s.first_name, s.last_name\n",
        "FROM students s\n",
        "JOIN grades g ON s.student_id = g.student_id\n",
        "WHERE g.grade > 90\n",
        "''')\n",
        "\n",
        "results = cursor.fetchall()\n",
        "\n",
        "if len(results) == 1:\n",
        "    print(\"Student who scored above a 90 in a subject:\")\n",
        "else:\n",
        "    print(\"Students who scored above a 90 in a subject:\")\n",
        "print(\"\")\n",
        "\n",
        "if results:\n",
        "    for row in results:\n",
        "        first_name, last_name = row\n",
        "        print(f\"{first_name} {last_name}\")"
      ],
      "metadata": {
        "colab": {
          "base_uri": "https://localhost:8080/"
        },
        "id": "CNog3BdIrovC",
        "outputId": "9b6aaa9c-f6a0-4e5d-def2-468eb8246728"
      },
      "execution_count": 80,
      "outputs": [
        {
          "output_type": "stream",
          "name": "stdout",
          "text": [
            "Students who scored above a 90 in a subject:\n",
            "\n",
            "Alice Johnson\n",
            "David Brown\n",
            "Eve Davis\n"
          ]
        }
      ]
    },
    {
      "cell_type": "markdown",
      "source": [
        "Question 5"
      ],
      "metadata": {
        "id": "D69f2zeMwTom"
      }
    },
    {
      "cell_type": "code",
      "source": [
        "# 1\n",
        "import pandas as pd\n",
        "\n",
        "query_students = 'SELECT * FROM students'\n",
        "query_grades = 'SELECT * FROM grades'\n",
        "\n",
        "df_students = pd.read_sql_query(query_students, connection)\n",
        "df_grades = pd.read_sql_query(query_grades, connection)\n",
        "\n",
        "print(\"Students DataFrame:\")\n",
        "print(df_students)\n",
        "print(\"\\nGrades DataFrame:\")\n",
        "print(df_grades)"
      ],
      "metadata": {
        "colab": {
          "base_uri": "https://localhost:8080/"
        },
        "id": "1CaXWpNXwU8_",
        "outputId": "fde6801a-1d14-4b6f-bb67-44e53a3b74a7"
      },
      "execution_count": 81,
      "outputs": [
        {
          "output_type": "stream",
          "name": "stdout",
          "text": [
            "Students DataFrame:\n",
            "    student_id first_name last_name\n",
            "0            1      Alice   Johnson\n",
            "1            2        Bob     Smith\n",
            "2            3     Csarol     White\n",
            "3            4      David     Brown\n",
            "4            5        Eve     Davis\n",
            "5            6      Alice   Johnson\n",
            "6            7        Bob     Smith\n",
            "7            8     Csarol     White\n",
            "8            9      David     Brown\n",
            "9           10        Eve     Davis\n",
            "10          11      Alice   Johnson\n",
            "11          12        Bob     Smith\n",
            "12          13      Carol     White\n",
            "13          14      David     Brown\n",
            "14          15        Eve     Davis\n",
            "15          16      Alice   Johnson\n",
            "16          17        Bob     Smith\n",
            "17          18      Carol     White\n",
            "18          19      David     Brown\n",
            "19          20        Eve     Davis\n",
            "\n",
            "Grades DataFrame:\n",
            "    grade_id  student_id  subject  grade\n",
            "0          1           1     Math     95\n",
            "1          2           1  English     88\n",
            "2          3           1  History     90\n",
            "3          4           2     Math     82\n",
            "4          5           2  English     76\n",
            "5          6           2  History     85\n",
            "6          7           3     Math     75\n",
            "7          8           3  English     81\n",
            "8          9           3  History     85\n",
            "9         10           4     Math     98\n",
            "10        11           4  English    100\n",
            "11        12           4  History     97\n",
            "12        13           5     Math     88\n",
            "13        14           5  English     90\n",
            "14        15           5  History     92\n",
            "15        16           1     Math     95\n",
            "16        17           1  English     88\n",
            "17        18           1  History     90\n",
            "18        19           2     Math     82\n",
            "19        20           2  English     76\n",
            "20        21           2  History     85\n",
            "21        22           3     Math     75\n",
            "22        23           3  English     81\n",
            "23        24           3  History     85\n",
            "24        25           4     Math     98\n",
            "25        26           4  English    100\n",
            "26        27           4  History     97\n",
            "27        28           5     Math     88\n",
            "28        29           5  English     90\n",
            "29        30           5  History     92\n",
            "30        31           1     Math     95\n",
            "31        32           1  English     88\n",
            "32        33           1  History     90\n",
            "33        34           2     Math     82\n",
            "34        35           2  English     76\n",
            "35        36           2  History     85\n",
            "36        37           3     Math     75\n",
            "37        38           3  English     81\n",
            "38        39           3  History     85\n",
            "39        40           4     Math     98\n",
            "40        41           4  English    100\n",
            "41        42           4  History     97\n",
            "42        43           5     Math     88\n",
            "43        44           5  English     90\n",
            "44        45           5  History     92\n",
            "45        46           1     Math     95\n",
            "46        47           1  English     88\n",
            "47        48           1  History     90\n",
            "48        49           2     Math     82\n",
            "49        50           2  English     76\n",
            "50        51           2  History     85\n",
            "51        52           3     Math     75\n",
            "52        53           3  English     81\n",
            "53        54           3  History     85\n",
            "54        55           4     Math     98\n",
            "55        56           4  English    100\n",
            "56        57           4  History     97\n",
            "57        58           5     Math     88\n",
            "58        59           5  English     90\n",
            "59        60           5  History     92\n"
          ]
        }
      ]
    },
    {
      "cell_type": "code",
      "source": [
        "# 2\n",
        "query = '''\n",
        "SELECT s.first_name, s.last_name, g.subject, g.grade\n",
        "FROM students s\n",
        "JOIN grades g ON s.student_id = g.student_id\n",
        "'''\n",
        "\n",
        "df_comb = pd.read_sql_query(query, connection)\n",
        "\n",
        "print(\"Combined Tables DataFrame:\")\n",
        "print(df_comb)"
      ],
      "metadata": {
        "colab": {
          "base_uri": "https://localhost:8080/"
        },
        "id": "pGtJZo8Dw1ZH",
        "outputId": "b1afb85c-4417-44be-d740-0dd87cdb4029"
      },
      "execution_count": 82,
      "outputs": [
        {
          "output_type": "stream",
          "name": "stdout",
          "text": [
            "Combined Tables DataFrame:\n",
            "   first_name last_name  subject  grade\n",
            "0       Alice   Johnson     Math     95\n",
            "1       Alice   Johnson  English     88\n",
            "2       Alice   Johnson  History     90\n",
            "3         Bob     Smith     Math     82\n",
            "4         Bob     Smith  English     76\n",
            "5         Bob     Smith  History     85\n",
            "6      Csarol     White     Math     75\n",
            "7      Csarol     White  English     81\n",
            "8      Csarol     White  History     85\n",
            "9       David     Brown     Math     98\n",
            "10      David     Brown  English    100\n",
            "11      David     Brown  History     97\n",
            "12        Eve     Davis     Math     88\n",
            "13        Eve     Davis  English     90\n",
            "14        Eve     Davis  History     92\n",
            "15      Alice   Johnson     Math     95\n",
            "16      Alice   Johnson  English     88\n",
            "17      Alice   Johnson  History     90\n",
            "18        Bob     Smith     Math     82\n",
            "19        Bob     Smith  English     76\n",
            "20        Bob     Smith  History     85\n",
            "21     Csarol     White     Math     75\n",
            "22     Csarol     White  English     81\n",
            "23     Csarol     White  History     85\n",
            "24      David     Brown     Math     98\n",
            "25      David     Brown  English    100\n",
            "26      David     Brown  History     97\n",
            "27        Eve     Davis     Math     88\n",
            "28        Eve     Davis  English     90\n",
            "29        Eve     Davis  History     92\n",
            "30      Alice   Johnson     Math     95\n",
            "31      Alice   Johnson  English     88\n",
            "32      Alice   Johnson  History     90\n",
            "33        Bob     Smith     Math     82\n",
            "34        Bob     Smith  English     76\n",
            "35        Bob     Smith  History     85\n",
            "36     Csarol     White     Math     75\n",
            "37     Csarol     White  English     81\n",
            "38     Csarol     White  History     85\n",
            "39      David     Brown     Math     98\n",
            "40      David     Brown  English    100\n",
            "41      David     Brown  History     97\n",
            "42        Eve     Davis     Math     88\n",
            "43        Eve     Davis  English     90\n",
            "44        Eve     Davis  History     92\n",
            "45      Alice   Johnson     Math     95\n",
            "46      Alice   Johnson  English     88\n",
            "47      Alice   Johnson  History     90\n",
            "48        Bob     Smith     Math     82\n",
            "49        Bob     Smith  English     76\n",
            "50        Bob     Smith  History     85\n",
            "51     Csarol     White     Math     75\n",
            "52     Csarol     White  English     81\n",
            "53     Csarol     White  History     85\n",
            "54      David     Brown     Math     98\n",
            "55      David     Brown  English    100\n",
            "56      David     Brown  History     97\n",
            "57        Eve     Davis     Math     88\n",
            "58        Eve     Davis  English     90\n",
            "59        Eve     Davis  History     92\n"
          ]
        }
      ]
    },
    {
      "cell_type": "code",
      "source": [
        "# 3\n",
        "sdf = pd.read_sql_query('SELECT * FROM students', connection)\n",
        "sdf = df_comb.groupby(['first_name', 'last_name'])['grade'].mean().reset_index()\n",
        "sdf.columns = ['first_name', 'last_name', 'average_grade']\n",
        "print(sdf.head())\n",
        "\n",
        "gdf = pd.read_sql_query('SELECT * FROM grades', connection)\n",
        "gdf = df_comb.groupby('subject')['grade'].mean().reset_index()\n",
        "gdf.columns = ['subject', 'average_grade']\n",
        "print(gdf.head())\n",
        "\n",
        "import matplotlib.pyplot as plt"
      ],
      "metadata": {
        "colab": {
          "base_uri": "https://localhost:8080/"
        },
        "id": "U2qtpS4txGCa",
        "outputId": "786b7245-5e1b-4096-eeb1-d076c2f76322"
      },
      "execution_count": 83,
      "outputs": [
        {
          "output_type": "stream",
          "name": "stdout",
          "text": [
            "  first_name last_name  average_grade\n",
            "0      Alice   Johnson      91.000000\n",
            "1        Bob     Smith      81.000000\n",
            "2     Csarol     White      80.333333\n",
            "3      David     Brown      98.333333\n",
            "4        Eve     Davis      90.000000\n",
            "   subject  average_grade\n",
            "0  English           87.0\n",
            "1  History           89.8\n",
            "2     Math           87.6\n"
          ]
        }
      ]
    },
    {
      "cell_type": "code",
      "source": [
        "plt.figure(figsize=(10,6))\n",
        "plt.scatter(sdf['first_name'] + ' ' + sdf['last_name'], sdf['average_grade'], color='darkgreen', s=100)\n",
        "plt.xlabel('Student')\n",
        "plt.ylabel('Average Grade')\n",
        "plt.title('Average Grades for Each Student')\n",
        "plt.show()\n",
        "\n",
        "plt.figure(figsize=(10,6))\n",
        "plt.bar(gdf['subject'], gdf['average_grade'], color='lightblue')\n",
        "plt.xlabel('Subject')\n",
        "plt.ylabel('Average Grade')\n",
        "plt.title('Average Grade for Each Subject')\n",
        "plt.show()"
      ],
      "metadata": {
        "colab": {
          "base_uri": "https://localhost:8080/",
          "height": 1000
        },
        "id": "HIC0jUq0xw9V",
        "outputId": "bf4705d7-e4fe-4f0e-c286-1554c766b5e9"
      },
      "execution_count": 84,
      "outputs": [
        {
          "output_type": "display_data",
          "data": {
            "text/plain": [
              "<Figure size 1000x600 with 1 Axes>"
            ],
            "image/png": "[encoded data removed]"
          },
          "metadata": {}
        },
        {
          "output_type": "display_data",
          "data": {
            "text/plain": [
              "<Figure size 1000x600 with 1 Axes>"
            ],
            "image/png": "[encoded data removed]"
          },
          "metadata": {}
        }
      ]
    },
    {
      "cell_type": "code",
      "source": [
        "# Bonus\n",
        "query = '''\n",
        "SELECT s.first_name, s.last_name, g.subject, g.grade\n",
        "FROM grades g\n",
        "JOIN students s ON g.student_id = s.student_id\n",
        "ORDER BY g.subject, s.last_name, s.first_name;\n",
        "'''\n",
        "\n",
        "dfeach = pd.read_sql_query(query, connection)\n",
        "\n",
        "print(\"Student Grades in Each Subject:\")\n",
        "print(\"\")\n",
        "print(dfeach)"
      ],
      "metadata": {
        "colab": {
          "base_uri": "https://localhost:8080/"
        },
        "id": "wcqIlNxc0j48",
        "outputId": "1f001a68-274e-4480-f1b7-4e719428dbcb"
      },
      "execution_count": 89,
      "outputs": [
        {
          "output_type": "stream",
          "name": "stdout",
          "text": [
            "Student Grades in Each Subject:\n",
            "\n",
            "   first_name last_name  subject  grade\n",
            "0       David     Brown  English    100\n",
            "1       David     Brown  English    100\n",
            "2       David     Brown  English    100\n",
            "3       David     Brown  English    100\n",
            "4         Eve     Davis  English     90\n",
            "5         Eve     Davis  English     90\n",
            "6         Eve     Davis  English     90\n",
            "7         Eve     Davis  English     90\n",
            "8       Alice   Johnson  English     88\n",
            "9       Alice   Johnson  English     88\n",
            "10      Alice   Johnson  English     88\n",
            "11      Alice   Johnson  English     88\n",
            "12        Bob     Smith  English     76\n",
            "13        Bob     Smith  English     76\n",
            "14        Bob     Smith  English     76\n",
            "15        Bob     Smith  English     76\n",
            "16     Csarol     White  English     81\n",
            "17     Csarol     White  English     81\n",
            "18     Csarol     White  English     81\n",
            "19     Csarol     White  English     81\n",
            "20      David     Brown  History     97\n",
            "21      David     Brown  History     97\n",
            "22      David     Brown  History     97\n",
            "23      David     Brown  History     97\n",
            "24        Eve     Davis  History     92\n",
            "25        Eve     Davis  History     92\n",
            "26        Eve     Davis  History     92\n",
            "27        Eve     Davis  History     92\n",
            "28      Alice   Johnson  History     90\n",
            "29      Alice   Johnson  History     90\n",
            "30      Alice   Johnson  History     90\n",
            "31      Alice   Johnson  History     90\n",
            "32        Bob     Smith  History     85\n",
            "33        Bob     Smith  History     85\n",
            "34        Bob     Smith  History     85\n",
            "35        Bob     Smith  History     85\n",
            "36     Csarol     White  History     85\n",
            "37     Csarol     White  History     85\n",
            "38     Csarol     White  History     85\n",
            "39     Csarol     White  History     85\n",
            "40      David     Brown     Math     98\n",
            "41      David     Brown     Math     98\n",
            "42      David     Brown     Math     98\n",
            "43      David     Brown     Math     98\n",
            "44        Eve     Davis     Math     88\n",
            "45        Eve     Davis     Math     88\n",
            "46        Eve     Davis     Math     88\n",
            "47        Eve     Davis     Math     88\n",
            "48      Alice   Johnson     Math     95\n",
            "49      Alice   Johnson     Math     95\n",
            "50      Alice   Johnson     Math     95\n",
            "51      Alice   Johnson     Math     95\n",
            "52        Bob     Smith     Math     82\n",
            "53        Bob     Smith     Math     82\n",
            "54        Bob     Smith     Math     82\n",
            "55        Bob     Smith     Math     82\n",
            "56     Csarol     White     Math     75\n",
            "57     Csarol     White     Math     75\n",
            "58     Csarol     White     Math     75\n",
            "59     Csarol     White     Math     75\n"
          ]
        }
      ]
    },
    {
      "cell_type": "code",
      "source": [
        "idx = dfeach.groupby('subject')['grade'].idxmax()\n",
        "\n",
        "whichhigh = dfeach.loc[idx]\n",
        "\n",
        "print(\"Student with the Highest Grade in Each Subject:\")\n",
        "print(\"\")\n",
        "print(whichhigh)"
      ],
      "metadata": {
        "colab": {
          "base_uri": "https://localhost:8080/"
        },
        "id": "b3m3boPg5lf1",
        "outputId": "cda97617-a4d3-4aad-e07a-39923852d433"
      },
      "execution_count": 92,
      "outputs": [
        {
          "output_type": "stream",
          "name": "stdout",
          "text": [
            "Student with the Highest Grade in Each Subject:\n",
            "\n",
            "   first_name last_name  subject  grade\n",
            "0       David     Brown  English    100\n",
            "20      David     Brown  History     97\n",
            "40      David     Brown     Math     98\n"
          ]
        }
      ]
    },
    {
      "cell_type": "code",
      "source": [
        "dfeach['student'] = dfeach['first_name'] + ' ' + dfeach['last_name']\n",
        "\n",
        "dftable = dfeach.pivot_table(index='subject', columns='student', values='grade', aggfunc='mean')\n",
        "\n",
        "print(\"Pivoted DataFrame for Plotting:\")\n",
        "print(dftable)"
      ],
      "metadata": {
        "colab": {
          "base_uri": "https://localhost:8080/"
        },
        "id": "7bkT75p5746f",
        "outputId": "fa68bc4a-5a21-4982-99d9-39eca6c140fe"
      },
      "execution_count": 96,
      "outputs": [
        {
          "output_type": "stream",
          "name": "stdout",
          "text": [
            "Pivoted DataFrame for Plotting:\n",
            "student  Alice Johnson  Bob Smith  Csarol White  David Brown  Eve Davis\n",
            "subject                                                                \n",
            "English           88.0       76.0          81.0        100.0       90.0\n",
            "History           90.0       85.0          85.0         97.0       92.0\n",
            "Math              95.0       82.0          75.0         98.0       88.0\n"
          ]
        }
      ]
    },
    {
      "cell_type": "code",
      "source": [
        "import numpy as np\n",
        "\n",
        "plt.figure(figsize=(14, 8))\n",
        "\n",
        "subjects = dftable.index\n",
        "students = dftable.columns\n",
        "num_subjects = len(subjects)\n",
        "num_students = len(students)\n",
        "\n",
        "bar_width = 0.15\n",
        "bar_positions = np.arange(num_subjects)\n",
        "\n",
        "\n",
        "for i, student in enumerate(students):\n",
        "    plt.bar(\n",
        "        bar_positions + i * bar_width,\n",
        "        dftable[student],\n",
        "        bar_width,\n",
        "        label=student\n",
        "    )\n",
        "\n",
        "plt.xlabel('Subject')\n",
        "plt.ylabel('Grade')\n",
        "plt.title('Grades of Students by Subject')\n",
        "plt.xticks(bar_positions + bar_width * (num_students / 2 - 0.5), subjects, rotation=45)\n",
        "plt.legend(title='Student')\n",
        "plt.show()"
      ],
      "metadata": {
        "colab": {
          "base_uri": "https://localhost:8080/",
          "height": 563
        },
        "id": "FaYM8WfK8pVq",
        "outputId": "eff2835d-08dc-4856-94e1-49e6e6863080"
      },
      "execution_count": 107,
      "outputs": [
        {
          "output_type": "display_data",
          "data": {
            "text/plain": [
              "<Figure size 1400x800 with 1 Axes>"
            ],
            "image/png": "[encoded data removed]"
          },
          "metadata": {}
        }
      ]
    }
  ]
}