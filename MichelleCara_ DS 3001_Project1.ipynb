{
 "cells": [
  {
   "cell_type": "markdown",
   "id": "770dd410",
   "metadata": {},
   "source": [
    "# Analysis of Factors Affecting Happiness - Michelle Kim & Cara Seely"
   ]
  },
  {
   "cell_type": "markdown",
   "id": "7f5d79e5",
   "metadata": {},
   "source": [
    "# Summary\n",
    "\n",
    "This project looks to answer the questions of does one’s age, sex, health, total family income, degree, or marital status coincide with one’s reported happiness level? What life characteristics are most important to one’s happiness? Does money actually equal happiness? Does “happy wife” equal “happy life?” Happiness is extremely subjective, making it a difficult topic to explore. However happiness is fundamental for human well-being, therefore it is important to learn on a deeper level. \n",
    "\n",
    "Using data from 2022 in the General Social Survey, this codebook was used to make insightful insights surrounding happiness and what factors affect it. The variables being analyzed: age, sex, health, income, degree, and marital status, are factors that are believed to have the most abundance of data that is also correlated with happiness. The data within these variables were cleaned before conducting analysis, which is featured later in this paper. After cleaning, each variable was analyzed and turned into various visuals. These visualizations consist of statistical tables, bar graphs, kernel density plots, and more. Not only were the correlations looked at between these variables and happiness, but we also compared the variables against each other. \n",
    "\n",
    "After analyzing all visualizations and statistics, the data showed that there is a correlation between health status and happiness. For some variables like age, the data showed an even distribution across age groups, which suggests that happiness levels vary and don’t have a strong correlation. The data was also broken down by sex, giving a deeper understanding of how marital status, gender and happiness all intersect. These findings have helped exemplify a broader understanding of how health, age, education, marital status, and sex are related to happiness or as many would consider, human-well being. "
   ]
  },
  {
   "cell_type": "markdown",
   "id": "81acdca1",
   "metadata": {},
   "source": [
    "# Data, Key Variables, & Cleaning"
   ]
  },
  {
   "cell_type": "markdown",
   "id": "118c6cbb",
   "metadata": {},
   "source": [
    "This part of the paper is dedicated to explaining the data and key variables in the analysis, as well as the data cleaning methods that went along in this project. Before beginning cleaning, the data was read by first importing necessary libraries such as matplotlib.pyplot and seaborn for visualizations, as well as a few other libraries. Having to read three separate files was initially troubling, but by using a for loop and read_parquet, the code is able to read the different chunks of data. The data from these three files were then saved into a single csv file. After processing the data, the code then searches and stores the data for only the specific columns that were deemed necessary."
   ]
  },
  {
   "cell_type": "code",
   "execution_count": 2,
   "id": "a539c3d8",
   "metadata": {},
   "outputs": [
    {
     "name": "stderr",
     "output_type": "stream",
     "text": [
      "/Users/michellekim/opt/anaconda3/lib/python3.9/site-packages/pandas/core/computation/expressions.py:21: UserWarning: Pandas requires version '2.8.4' or newer of 'numexpr' (version '2.8.1' currently installed).\n",
      "  from pandas.core.computation.check import NUMEXPR_INSTALLED\n",
      "/Users/michellekim/opt/anaconda3/lib/python3.9/site-packages/pandas/core/arrays/masked.py:60: UserWarning: Pandas requires version '1.3.6' or newer of 'bottleneck' (version '1.3.4' currently installed).\n",
      "  from pandas.core import (\n",
      "/Users/michellekim/opt/anaconda3/lib/python3.9/site-packages/scipy/__init__.py:146: UserWarning: A NumPy version >=1.16.5 and <1.23.0 is required for this version of SciPy (detected version 1.26.4\n",
      "  warnings.warn(f\"A NumPy version >={np_minversion} and <{np_maxversion}\"\n"
     ]
    }
   ],
   "source": [
    "import pandas as pd\n",
    "import matplotlib.pyplot as plt\n",
    "import numpy as np\n",
    "from sklearn.cluster import KMeans\n",
    "import seaborn as sns"
   ]
  },
  {
   "cell_type": "code",
   "execution_count": 3,
   "id": "df9745c0",
   "metadata": {},
   "outputs": [
    {
     "name": "stdout",
     "output_type": "stream",
     "text": [
      "Requirement already satisfied: fastparquet in ./opt/anaconda3/lib/python3.9/site-packages (2024.2.0)\n",
      "Requirement already satisfied: cramjam>=2.3 in ./opt/anaconda3/lib/python3.9/site-packages (from fastparquet) (2.8.2)\n",
      "Requirement already satisfied: fsspec in ./opt/anaconda3/lib/python3.9/site-packages (from fastparquet) (2022.2.0)\n",
      "Requirement already satisfied: numpy>=1.20.3 in ./opt/anaconda3/lib/python3.9/site-packages (from fastparquet) (1.26.4)\n",
      "Requirement already satisfied: packaging in ./opt/anaconda3/lib/python3.9/site-packages (from fastparquet) (21.3)\n",
      "Requirement already satisfied: pandas>=1.5.0 in ./opt/anaconda3/lib/python3.9/site-packages (from fastparquet) (2.2.1)\n",
      "Requirement already satisfied: pytz>=2020.1 in ./opt/anaconda3/lib/python3.9/site-packages (from pandas>=1.5.0->fastparquet) (2021.3)\n",
      "Requirement already satisfied: python-dateutil>=2.8.2 in ./opt/anaconda3/lib/python3.9/site-packages (from pandas>=1.5.0->fastparquet) (2.8.2)\n",
      "Requirement already satisfied: tzdata>=2022.7 in ./opt/anaconda3/lib/python3.9/site-packages (from pandas>=1.5.0->fastparquet) (2024.1)\n",
      "Requirement already satisfied: six>=1.5 in ./opt/anaconda3/lib/python3.9/site-packages (from python-dateutil>=2.8.2->pandas>=1.5.0->fastparquet) (1.16.0)\n",
      "Requirement already satisfied: pyparsing!=3.0.5,>=2.0.2 in ./opt/anaconda3/lib/python3.9/site-packages (from packaging->fastparquet) (3.0.4)\n",
      "Requirement already satisfied: pyarrow in ./opt/anaconda3/lib/python3.9/site-packages (15.0.1)\n",
      "Requirement already satisfied: numpy<2,>=1.16.6 in ./opt/anaconda3/lib/python3.9/site-packages (from pyarrow) (1.26.4)\n",
      "Requirement already satisfied: matplotlib in ./opt/anaconda3/lib/python3.9/site-packages (3.8.3)\n",
      "Requirement already satisfied: packaging>=20.0 in ./opt/anaconda3/lib/python3.9/site-packages (from matplotlib) (21.3)\n",
      "Requirement already satisfied: pyparsing>=2.3.1 in ./opt/anaconda3/lib/python3.9/site-packages (from matplotlib) (3.0.4)\n",
      "Requirement already satisfied: numpy<2,>=1.21 in ./opt/anaconda3/lib/python3.9/site-packages (from matplotlib) (1.26.4)\n",
      "Requirement already satisfied: importlib-resources>=3.2.0 in ./opt/anaconda3/lib/python3.9/site-packages (from matplotlib) (6.3.0)\n",
      "Requirement already satisfied: python-dateutil>=2.7 in ./opt/anaconda3/lib/python3.9/site-packages (from matplotlib) (2.8.2)\n",
      "Requirement already satisfied: cycler>=0.10 in ./opt/anaconda3/lib/python3.9/site-packages (from matplotlib) (0.11.0)\n",
      "Requirement already satisfied: kiwisolver>=1.3.1 in ./opt/anaconda3/lib/python3.9/site-packages (from matplotlib) (1.3.2)\n",
      "Requirement already satisfied: pillow>=8 in ./opt/anaconda3/lib/python3.9/site-packages (from matplotlib) (9.0.1)\n",
      "Requirement already satisfied: fonttools>=4.22.0 in ./opt/anaconda3/lib/python3.9/site-packages (from matplotlib) (4.25.0)\n",
      "Requirement already satisfied: contourpy>=1.0.1 in ./opt/anaconda3/lib/python3.9/site-packages (from matplotlib) (1.2.0)\n",
      "Requirement already satisfied: zipp>=3.1.0 in ./opt/anaconda3/lib/python3.9/site-packages (from importlib-resources>=3.2.0->matplotlib) (3.7.0)\n",
      "Requirement already satisfied: six>=1.5 in ./opt/anaconda3/lib/python3.9/site-packages (from python-dateutil>=2.7->matplotlib) (1.16.0)\n",
      "Requirement already satisfied: seaborn in ./opt/anaconda3/lib/python3.9/site-packages (0.13.2)\n",
      "Requirement already satisfied: pandas in ./opt/anaconda3/lib/python3.9/site-packages (2.2.1)\n",
      "Requirement already satisfied: numpy!=1.24.0,>=1.20 in ./opt/anaconda3/lib/python3.9/site-packages (from seaborn) (1.26.4)\n",
      "Requirement already satisfied: matplotlib!=3.6.1,>=3.4 in ./opt/anaconda3/lib/python3.9/site-packages (from seaborn) (3.8.3)\n",
      "Requirement already satisfied: tzdata>=2022.7 in ./opt/anaconda3/lib/python3.9/site-packages (from pandas) (2024.1)\n",
      "Requirement already satisfied: pytz>=2020.1 in ./opt/anaconda3/lib/python3.9/site-packages (from pandas) (2021.3)\n",
      "Requirement already satisfied: python-dateutil>=2.8.2 in ./opt/anaconda3/lib/python3.9/site-packages (from pandas) (2.8.2)\n",
      "Requirement already satisfied: fonttools>=4.22.0 in ./opt/anaconda3/lib/python3.9/site-packages (from matplotlib!=3.6.1,>=3.4->seaborn) (4.25.0)\n",
      "Requirement already satisfied: importlib-resources>=3.2.0 in ./opt/anaconda3/lib/python3.9/site-packages (from matplotlib!=3.6.1,>=3.4->seaborn) (6.3.0)\n",
      "Requirement already satisfied: pillow>=8 in ./opt/anaconda3/lib/python3.9/site-packages (from matplotlib!=3.6.1,>=3.4->seaborn) (9.0.1)\n",
      "Requirement already satisfied: contourpy>=1.0.1 in ./opt/anaconda3/lib/python3.9/site-packages (from matplotlib!=3.6.1,>=3.4->seaborn) (1.2.0)\n",
      "Requirement already satisfied: packaging>=20.0 in ./opt/anaconda3/lib/python3.9/site-packages (from matplotlib!=3.6.1,>=3.4->seaborn) (21.3)\n",
      "Requirement already satisfied: pyparsing>=2.3.1 in ./opt/anaconda3/lib/python3.9/site-packages (from matplotlib!=3.6.1,>=3.4->seaborn) (3.0.4)\n",
      "Requirement already satisfied: cycler>=0.10 in ./opt/anaconda3/lib/python3.9/site-packages (from matplotlib!=3.6.1,>=3.4->seaborn) (0.11.0)\n",
      "Requirement already satisfied: kiwisolver>=1.3.1 in ./opt/anaconda3/lib/python3.9/site-packages (from matplotlib!=3.6.1,>=3.4->seaborn) (1.3.2)\n",
      "Requirement already satisfied: zipp>=3.1.0 in ./opt/anaconda3/lib/python3.9/site-packages (from importlib-resources>=3.2.0->matplotlib!=3.6.1,>=3.4->seaborn) (3.7.0)\n",
      "Requirement already satisfied: six>=1.5 in ./opt/anaconda3/lib/python3.9/site-packages (from python-dateutil>=2.8.2->pandas) (1.16.0)\n",
      "Requirement already satisfied: seaborn in ./opt/anaconda3/lib/python3.9/site-packages (0.13.2)\n",
      "Requirement already satisfied: matplotlib!=3.6.1,>=3.4 in ./opt/anaconda3/lib/python3.9/site-packages (from seaborn) (3.8.3)\n",
      "Requirement already satisfied: pandas>=1.2 in ./opt/anaconda3/lib/python3.9/site-packages (from seaborn) (2.2.1)\n",
      "Requirement already satisfied: numpy!=1.24.0,>=1.20 in ./opt/anaconda3/lib/python3.9/site-packages (from seaborn) (1.26.4)\n",
      "Requirement already satisfied: pillow>=8 in ./opt/anaconda3/lib/python3.9/site-packages (from matplotlib!=3.6.1,>=3.4->seaborn) (9.0.1)\n",
      "Requirement already satisfied: python-dateutil>=2.7 in ./opt/anaconda3/lib/python3.9/site-packages (from matplotlib!=3.6.1,>=3.4->seaborn) (2.8.2)\n",
      "Requirement already satisfied: packaging>=20.0 in ./opt/anaconda3/lib/python3.9/site-packages (from matplotlib!=3.6.1,>=3.4->seaborn) (21.3)\n",
      "Requirement already satisfied: kiwisolver>=1.3.1 in ./opt/anaconda3/lib/python3.9/site-packages (from matplotlib!=3.6.1,>=3.4->seaborn) (1.3.2)\n",
      "Requirement already satisfied: pyparsing>=2.3.1 in ./opt/anaconda3/lib/python3.9/site-packages (from matplotlib!=3.6.1,>=3.4->seaborn) (3.0.4)\n",
      "Requirement already satisfied: fonttools>=4.22.0 in ./opt/anaconda3/lib/python3.9/site-packages (from matplotlib!=3.6.1,>=3.4->seaborn) (4.25.0)\n",
      "Requirement already satisfied: importlib-resources>=3.2.0 in ./opt/anaconda3/lib/python3.9/site-packages (from matplotlib!=3.6.1,>=3.4->seaborn) (6.3.0)\n",
      "Requirement already satisfied: cycler>=0.10 in ./opt/anaconda3/lib/python3.9/site-packages (from matplotlib!=3.6.1,>=3.4->seaborn) (0.11.0)\n",
      "Requirement already satisfied: contourpy>=1.0.1 in ./opt/anaconda3/lib/python3.9/site-packages (from matplotlib!=3.6.1,>=3.4->seaborn) (1.2.0)\n",
      "Requirement already satisfied: zipp>=3.1.0 in ./opt/anaconda3/lib/python3.9/site-packages (from importlib-resources>=3.2.0->matplotlib!=3.6.1,>=3.4->seaborn) (3.7.0)\n",
      "Requirement already satisfied: pytz>=2020.1 in ./opt/anaconda3/lib/python3.9/site-packages (from pandas>=1.2->seaborn) (2021.3)\n",
      "Requirement already satisfied: tzdata>=2022.7 in ./opt/anaconda3/lib/python3.9/site-packages (from pandas>=1.2->seaborn) (2024.1)\n",
      "Requirement already satisfied: six>=1.5 in ./opt/anaconda3/lib/python3.9/site-packages (from python-dateutil>=2.7->matplotlib!=3.6.1,>=3.4->seaborn) (1.16.0)\n",
      "Requirement already satisfied: matplotlib in ./opt/anaconda3/lib/python3.9/site-packages (3.8.3)\n",
      "Requirement already satisfied: packaging>=20.0 in ./opt/anaconda3/lib/python3.9/site-packages (from matplotlib) (21.3)\n",
      "Requirement already satisfied: pillow>=8 in ./opt/anaconda3/lib/python3.9/site-packages (from matplotlib) (9.0.1)\n",
      "Requirement already satisfied: kiwisolver>=1.3.1 in ./opt/anaconda3/lib/python3.9/site-packages (from matplotlib) (1.3.2)\n",
      "Requirement already satisfied: contourpy>=1.0.1 in ./opt/anaconda3/lib/python3.9/site-packages (from matplotlib) (1.2.0)\n",
      "Requirement already satisfied: python-dateutil>=2.7 in ./opt/anaconda3/lib/python3.9/site-packages (from matplotlib) (2.8.2)\n",
      "Requirement already satisfied: numpy<2,>=1.21 in ./opt/anaconda3/lib/python3.9/site-packages (from matplotlib) (1.26.4)\n",
      "Requirement already satisfied: cycler>=0.10 in ./opt/anaconda3/lib/python3.9/site-packages (from matplotlib) (0.11.0)\n",
      "Requirement already satisfied: pyparsing>=2.3.1 in ./opt/anaconda3/lib/python3.9/site-packages (from matplotlib) (3.0.4)\n",
      "Requirement already satisfied: importlib-resources>=3.2.0 in ./opt/anaconda3/lib/python3.9/site-packages (from matplotlib) (6.3.0)\n",
      "Requirement already satisfied: fonttools>=4.22.0 in ./opt/anaconda3/lib/python3.9/site-packages (from matplotlib) (4.25.0)\n",
      "Requirement already satisfied: zipp>=3.1.0 in ./opt/anaconda3/lib/python3.9/site-packages (from importlib-resources>=3.2.0->matplotlib) (3.7.0)\r\n",
      "Requirement already satisfied: six>=1.5 in ./opt/anaconda3/lib/python3.9/site-packages (from python-dateutil>=2.7->matplotlib) (1.16.0)\r\n"
     ]
    }
   ],
   "source": [
    "!pip install fastparquet\n",
    "!pip install pyarrow\n",
    "!pip install matplotlib\n",
    "!pip install --upgrade seaborn pandas\n",
    "!pip install --upgrade seaborn\n",
    "!pip install --upgrade matplotlib"
   ]
  },
  {
   "cell_type": "code",
   "execution_count": 4,
   "id": "417bc5b0",
   "metadata": {},
   "outputs": [],
   "source": [
    "# Below is the professor's code chunk for reading in the data\n",
    "var_list = ['wrkstat', 'prestige'] # List of variables you want to save\n",
    "output_filename = 'selected_gss_data.csv' # Name of the file you want to save the data to\n",
    "#\n",
    "modes = ['w','a'] # Has write mode and append mode\n",
    "phase = 0 # Starts in write mode; after one iteration of loop, switches to append mode\n",
    "#\n",
    "for k in range(3): # for each chunk of the data\n",
    "    url = 'https://github.com/DS3001/project_gss/raw/main/gss_chunk_' + str(1+k) + '.parquet' # Create url to the chunk to be processed\n",
    "    #print(url) # Check the url is correct\n",
    "    df = pd.read_parquet(url) # Download this chunk of data\n",
    "    #print(df.head()) # Visually inspect the first few rows\n",
    "    df.loc[:,var_list].to_csv(output_filename, # specifies target file to save the chunk to\n",
    "                              mode=modes[phase], # control write versus append\n",
    "                              header=var_list, # variable names\n",
    "                              index=False) # no row index saved\n",
    "    phase = 1 # Switch from write mode to append mode"
   ]
  },
  {
   "cell_type": "code",
   "execution_count": 5,
   "id": "49e87d22",
   "metadata": {},
   "outputs": [
    {
     "name": "stdout",
     "output_type": "stream",
     "text": [
      "Column names: ['educ', 'paeduc', 'maeduc', 'speduc', 'coeduc', 'nateduc', 'nateducy', 'nateducz', 'educop', 'coneduc', 'coneducy', 'sexeduc', 'educ1', 'educ2', 'educ3', 'educ4', 'educ5', 'sppaeduc', 'spmaeduc', 'kdeduc1', 'kdeduc2', 'kdeduc3', 'kdeduc4', 'kdeduc5', 'kdeduc6', 'kdeduc7', 'kdeduc8', 'kdeduc9', 'sbeduc', 'voleduc', 'moneduc', 'hrseduc', 'giveduc', 'toteduc', 'valeduc', 'educ30', 'inteduc', 'opeduc', 'richeduc', 'educemp', 'reducemp', 'payeduc', 'immeduc', 'chldeduc', 'sei10educ', 'pasei10educ', 'masei10educ', 'spsei10educ', 'cosei10educ']\n"
     ]
    }
   ],
   "source": [
    "match = [col for col in df.columns if 'educ' in col]\n",
    "print(\"Column names:\", match)"
   ]
  },
  {
   "cell_type": "code",
   "execution_count": 6,
   "id": "647a9103",
   "metadata": {},
   "outputs": [
    {
     "name": "stdout",
     "output_type": "stream",
     "text": [
      "Unique Responses:\n",
      "coninc\n",
      "168736.29696    702\n",
      "45360.00000     671\n",
      "67200.00000     575\n",
      "55440.00000     554\n",
      "36960.00000     492\n",
      "               ... \n",
      "3447.00000       10\n",
      "4556.50000        9\n",
      "3737.25000        9\n",
      "4213.00000        8\n",
      "3613.50000        8\n",
      "Name: count, Length: 203, dtype: int64\n",
      "Number of NAs in 'coninc': 2728\n"
     ]
    }
   ],
   "source": [
    "unique_responses = df['coninc'].value_counts()\n",
    "print(\"Unique Responses:\")\n",
    "print(unique_responses)\n",
    "\n",
    "na_count = df['coninc'].isna().sum()\n",
    "print(f\"Number of NAs in '{'coninc'}': {na_count}\")"
   ]
  },
  {
   "cell_type": "markdown",
   "id": "62e21a30",
   "metadata": {},
   "source": [
    "Starting with the happiness category, which is the main variable of this analysis. Answer choices for this scale include: ‘pretty happy’, ‘very happy’, ‘not too happy’, and 'unanswered.' The scales of responses were not narrowed down or enlarged, as the scope seemed already sufficient for analysis. In regards to cleaning this variable, the different happiness levels were put into an ordered categorical data type, with predefined categories, which consists of the ones from the codebook. Any NAs or missing data for happiness responses were put into a category named, ‘unanswered.’ We felt it was necessary to put them into a new category to retain all rows of data to ensure that the entire data set is complete and to avoid potential bias."
   ]
  },
  {
   "cell_type": "code",
   "execution_count": 7,
   "id": "24561426",
   "metadata": {},
   "outputs": [
    {
     "name": "stderr",
     "output_type": "stream",
     "text": [
      "/var/folders/r7/8yfx5p116t50w33dph81nh4c0000gn/T/ipykernel_16281/4063559023.py:3: FutureWarning: A value is trying to be set on a copy of a DataFrame or Series through chained assignment using an inplace method.\n",
      "The behavior will change in pandas 3.0. This inplace method will never work because the intermediate object on which we are setting values always behaves as a copy.\n",
      "\n",
      "For example, when doing 'df[col].method(value, inplace=True)', try using 'df.method({col: value}, inplace=True)' or df[col] = df[col].method(value) instead, to perform the operation inplace on the original object.\n",
      "\n",
      "\n",
      "  df['happy'].fillna('unanswered', inplace=True)\n"
     ]
    }
   ],
   "source": [
    "categories = ['pretty happy', 'very happy', 'not too happy', 'unanswered']\n",
    "df['happy'] = pd.Categorical(df['happy'], categories=categories, ordered=True)\n",
    "df['happy'].fillna('unanswered', inplace=True)"
   ]
  },
  {
   "cell_type": "markdown",
   "id": "e654b7e8",
   "metadata": {},
   "source": [
    "The variables of age, health rank, sex, marital status, and degree were similarly cleaned like happiness. They were categorized into ordered categories, we once again used the codebook to have the categories matching the responses that were used in the General Social Survey. As discussed earlier, we again put any missing values into an ‘unanswered’ category to acknowledge this missing data and ensure consistent data. Prior to completing the graphical and statistical analysis, the unanswered responses were disregarded in the categorical variables as to not interfere with the analysis as well. It is important to note that the health ranking category had the most unanswered responses of the categorical variables, so the analysis comparing the respondent’s health to their happiness has limited data and thus, limited application for its analysis. For the marital status variable, there were five unique responses besides “unanswered”: “married”, “never married”, “separated”, “divorced”, and “widowed”. The latter four responses all indicate that the respondent was neither married nor claiming marital status at the time of completing the survey. To complete the statistical analysis concerning whether marriage coincides with one’s happiness levels, only two indicators of marital status were kept: married and not married."
   ]
  },
  {
   "cell_type": "code",
   "execution_count": 8,
   "id": "87473d3e",
   "metadata": {},
   "outputs": [
    {
     "name": "stderr",
     "output_type": "stream",
     "text": [
      "/var/folders/r7/8yfx5p116t50w33dph81nh4c0000gn/T/ipykernel_16281/3067842985.py:5: FutureWarning: A value is trying to be set on a copy of a DataFrame or Series through chained assignment using an inplace method.\n",
      "The behavior will change in pandas 3.0. This inplace method will never work because the intermediate object on which we are setting values always behaves as a copy.\n",
      "\n",
      "For example, when doing 'df[col].method(value, inplace=True)', try using 'df.method({col: value}, inplace=True)' or df[col] = df[col].method(value) instead, to perform the operation inplace on the original object.\n",
      "\n",
      "\n",
      "  df['health'].fillna('unanswered', inplace=True)\n",
      "/var/folders/r7/8yfx5p116t50w33dph81nh4c0000gn/T/ipykernel_16281/3067842985.py:9: FutureWarning: A value is trying to be set on a copy of a DataFrame or Series through chained assignment using an inplace method.\n",
      "The behavior will change in pandas 3.0. This inplace method will never work because the intermediate object on which we are setting values always behaves as a copy.\n",
      "\n",
      "For example, when doing 'df[col].method(value, inplace=True)', try using 'df.method({col: value}, inplace=True)' or df[col] = df[col].method(value) instead, to perform the operation inplace on the original object.\n",
      "\n",
      "\n",
      "  df['sex'].fillna('unanswered', inplace=True)\n",
      "/var/folders/r7/8yfx5p116t50w33dph81nh4c0000gn/T/ipykernel_16281/3067842985.py:14: FutureWarning: A value is trying to be set on a copy of a DataFrame or Series through chained assignment using an inplace method.\n",
      "The behavior will change in pandas 3.0. This inplace method will never work because the intermediate object on which we are setting values always behaves as a copy.\n",
      "\n",
      "For example, when doing 'df[col].method(value, inplace=True)', try using 'df.method({col: value}, inplace=True)' or df[col] = df[col].method(value) instead, to perform the operation inplace on the original object.\n",
      "\n",
      "\n",
      "  df['marital'].fillna('unanswered', inplace=True)\n",
      "/var/folders/r7/8yfx5p116t50w33dph81nh4c0000gn/T/ipykernel_16281/3067842985.py:20: FutureWarning: A value is trying to be set on a copy of a DataFrame or Series through chained assignment using an inplace method.\n",
      "The behavior will change in pandas 3.0. This inplace method will never work because the intermediate object on which we are setting values always behaves as a copy.\n",
      "\n",
      "For example, when doing 'df[col].method(value, inplace=True)', try using 'df.method({col: value}, inplace=True)' or df[col] = df[col].method(value) instead, to perform the operation inplace on the original object.\n",
      "\n",
      "\n",
      "  df['degree'].fillna('unanswered', inplace=True)\n"
     ]
    }
   ],
   "source": [
    "df = df.dropna(subset=['age'])\n",
    "\n",
    "cat_health = ['good', 'excellent', 'fair', 'poor', 'unanswered']\n",
    "df['health'] = pd.Categorical(df['health'], categories=cat_health, ordered=True)\n",
    "df['health'].fillna('unanswered', inplace=True)\n",
    "\n",
    "cat_sex = ['female', 'male', 'unanswered']\n",
    "df['sex'] = pd.Categorical(df['sex'], categories=cat_sex, ordered=True)\n",
    "df['sex'].fillna('unanswered', inplace=True)\n",
    "\n",
    "\n",
    "cat_marital = ['married', 'never married', 'divorced', 'widowed', 'separated','unanswered']\n",
    "df['marital'] = pd.Categorical(df['marital'], categories=cat_marital, ordered=True)\n",
    "df['marital'].fillna('unanswered', inplace=True)\n",
    "\n",
    "\n",
    "cat_deg = ['less than high school', 'high school', 'associate/junior college', \"bachelor's\", 'graduate',\n",
    "           'unanswered']\n",
    "df['degree'] = pd.Categorical(df['degree'], categories=cat_deg, ordered=True)\n",
    "df['degree'].fillna('unanswered', inplace=True)"
   ]
  },
  {
   "cell_type": "markdown",
   "id": "3acf457b",
   "metadata": {},
   "source": [
    "Lastly, the variable of total family income was simple to clean. The values for this column were coded to round the income to two decimal places, which standardizes the data and makes it easier to analyze and read. "
   ]
  },
  {
   "cell_type": "code",
   "execution_count": 9,
   "id": "f5a40c60",
   "metadata": {},
   "outputs": [],
   "source": [
    "df['coninc'] = df['coninc'].round(2)"
   ]
  },
  {
   "cell_type": "code",
   "execution_count": 10,
   "id": "15508483",
   "metadata": {},
   "outputs": [],
   "source": [
    "df = df.loc[:, ['age', 'sex', 'marital', 'coninc', 'degree', 'happy', 'health']]"
   ]
  },
  {
   "cell_type": "code",
   "execution_count": 11,
   "id": "8c96792d",
   "metadata": {},
   "outputs": [],
   "source": [
    "df.to_csv('MichelleCara (1).csv', index=False)"
   ]
  },
  {
   "cell_type": "markdown",
   "id": "97aef500",
   "metadata": {},
   "source": [
    "# Visualizations & Analysis"
   ]
  },
  {
   "cell_type": "markdown",
   "id": "63de1c73",
   "metadata": {},
   "source": [
    "Before beginning analysis, we will read the cleaned data file to ensure it's the correct file and then put it into a set data frame. "
   ]
  },
  {
   "cell_type": "code",
   "execution_count": 12,
   "id": "2e08791c",
   "metadata": {},
   "outputs": [
    {
     "name": "stdout",
     "output_type": "stream",
     "text": [
      "        age     sex        marital    coninc                    degree  \\\n",
      "0      48.0    male        married  105852.0               high school   \n",
      "1      25.0    male  never married   72774.0                bachelor's   \n",
      "2      42.0    male       divorced   59542.0                bachelor's   \n",
      "3      24.0    male  never married   33079.0               high school   \n",
      "4      24.0  female        married   72774.0                bachelor's   \n",
      "...     ...     ...            ...       ...                       ...   \n",
      "23534  22.0  female  never married   18480.0               high school   \n",
      "23535  29.0  female        married   45360.0                  graduate   \n",
      "23536  32.0    male  never married   94080.0  associate/junior college   \n",
      "23537  49.0  female        married  107520.0                  graduate   \n",
      "23538  50.0    male        married   67200.0                  graduate   \n",
      "\n",
      "              happy      health  \n",
      "0        unanswered        poor  \n",
      "1      pretty happy  unanswered  \n",
      "2      pretty happy  unanswered  \n",
      "3        unanswered        good  \n",
      "4        very happy   excellent  \n",
      "...             ...         ...  \n",
      "23534  pretty happy        good  \n",
      "23535  pretty happy        good  \n",
      "23536  pretty happy        good  \n",
      "23537    very happy        good  \n",
      "23538  pretty happy        fair  \n",
      "\n",
      "[23539 rows x 7 columns]\n"
     ]
    }
   ],
   "source": [
    "df = pd.read_csv('MichelleCara (1).csv', low_memory=False)\n",
    "print(df)"
   ]
  },
  {
   "cell_type": "markdown",
   "id": "be57b910",
   "metadata": {},
   "source": [
    "Next we will isolate the few variables we want to analyze to make sure the values we are using look as expected. "
   ]
  },
  {
   "cell_type": "code",
   "execution_count": 13,
   "id": "31bf6911",
   "metadata": {},
   "outputs": [
    {
     "name": "stdout",
     "output_type": "stream",
     "text": [
      "['male', 'female', 'unanswered']\n"
     ]
    }
   ],
   "source": [
    "# We can first list all of the possible responses given for 'sex':\n",
    "sex_responses = []\n",
    "for response in df['sex']:\n",
    "    if response not in sex_responses:\n",
    "        sex_responses.append(response)\n",
    "print(sex_responses)"
   ]
  },
  {
   "cell_type": "code",
   "execution_count": 14,
   "id": "82f0122a",
   "metadata": {},
   "outputs": [
    {
     "name": "stdout",
     "output_type": "stream",
     "text": [
      "['married', 'never married', 'divorced', 'separated', 'widowed', 'unanswered']\n"
     ]
    }
   ],
   "source": [
    "# We can repeat this for marital status:\n",
    "marriage_responses = []\n",
    "for response in df['marital']:\n",
    "    if response not in marriage_responses:\n",
    "        marriage_responses.append(response)\n",
    "print(marriage_responses)"
   ]
  },
  {
   "cell_type": "code",
   "execution_count": 15,
   "id": "a654c25a",
   "metadata": {},
   "outputs": [
    {
     "name": "stdout",
     "output_type": "stream",
     "text": [
      "['high school', \"bachelor's\", 'associate/junior college', 'graduate', 'less than high school', 'unanswered']\n"
     ]
    }
   ],
   "source": [
    "# Education \n",
    "education_responses = []\n",
    "for response in df['degree']:\n",
    "    if response not in education_responses:\n",
    "        education_responses.append(response)\n",
    "print(education_responses)"
   ]
  },
  {
   "cell_type": "code",
   "execution_count": 16,
   "id": "919ad2b9",
   "metadata": {},
   "outputs": [
    {
     "name": "stdout",
     "output_type": "stream",
     "text": [
      "[105852.0, 72774.0, 59542.0, 33079.0, nan, 88211.0, 28668.0, 48516.0, 14334.0, 4852.0, 6616.0, 39695.0, 1764.0, 12129.0, 5734.0, 3087.0, 24258.0, 18745.0, 16539.0, 178266.0, 9924.0, 20950.0, nan, 7939.0, nan, nan, nan, 441.0, nan, 123496.0, nan, nan, nan, nan, nan, nan, nan, nan, nan, nan, nan, nan, nan, nan, nan, nan, nan, nan, nan, nan, nan, nan, nan, 3969.0, nan, nan, nan, nan, nan, nan, nan, nan, nan, nan, nan, nan, nan, nan, nan, nan, nan, nan, nan, nan, nan, nan, nan, nan, nan, nan, nan, nan, nan, nan, nan, nan, nan, nan, nan, nan, nan, nan, nan, nan, nan, nan, nan, nan, nan, nan, nan, nan, nan, nan, nan, nan, nan, nan, nan, nan, nan, nan, nan, nan, nan, nan, nan, nan, nan, nan, nan, nan, nan, nan, nan, nan, nan, nan, nan, nan, nan, nan, nan, nan, nan, nan, nan, nan, nan, nan, nan, nan, nan, nan, nan, nan, nan, nan, nan, nan, nan, nan, nan, nan, nan, nan, nan, nan, nan, nan, nan, nan, nan, nan, nan, nan, nan, nan, nan, nan, nan, nan, nan, nan, nan, nan, nan, nan, nan, nan, nan, nan, nan, nan, nan, nan, nan, nan, nan, nan, nan, nan, nan, nan, nan, nan, nan, nan, nan, nan, nan, nan, nan, nan, nan, nan, nan, nan, nan, nan, nan, nan, nan, nan, nan, nan, nan, nan, nan, nan, nan, nan, nan, nan, nan, nan, nan, nan, nan, nan, nan, nan, nan, nan, nan, nan, nan, nan, nan, nan, nan, nan, nan, nan, nan, nan, nan, nan, nan, nan, nan, nan, nan, nan, nan, nan, nan, nan, nan, nan, nan, nan, nan, nan, nan, nan, nan, nan, nan, nan, nan, nan, nan, nan, nan, nan, nan, nan, nan, nan, nan, nan, nan, nan, nan, nan, nan, nan, nan, nan, nan, nan, nan, nan, nan, nan, nan, nan, nan, nan, nan, nan, nan, nan, nan, nan, nan, nan, nan, nan, nan, nan, nan, nan, nan, nan, nan, nan, nan, nan, nan, nan, nan, nan, nan, nan, nan, nan, nan, nan, nan, nan, nan, nan, nan, nan, nan, nan, nan, nan, nan, nan, nan, nan, nan, nan, nan, nan, nan, nan, nan, nan, nan, nan, nan, nan, nan, nan, nan, nan, nan, nan, nan, nan, nan, nan, nan, nan, nan, nan, nan, nan, nan, nan, nan, nan, nan, nan, nan, nan, nan, nan, nan, nan, nan, nan, nan, nan, nan, nan, nan, nan, nan, nan, nan, nan, nan, nan, nan, 6228.75, 99660.0, 37372.5, 31143.75, 26991.25, nan, nan, nan, nan, nan, 175621.41, 17648.12, nan, nan, 68516.25, 56058.75, 45677.5, nan, nan, nan, nan, nan, nan, nan, nan, nan, nan, nan, nan, nan, nan, 83050.0, 22838.75, 9343.12, 116270.0, 19724.38, nan, nan, 7474.5, nan, 13495.62, nan, nan, nan, nan, nan, nan, nan, nan, nan, 15571.88, nan, 415.25, 11419.38, nan, 1661.0, nan, nan, nan, nan, nan, nan, nan, nan, nan, nan, nan, nan, nan, nan, 2906.75, nan, nan, nan, 4567.75, 5398.25, nan, nan, nan, nan, nan, nan, nan, nan, nan, nan, nan, nan, nan, nan, nan, nan, nan, nan, nan, nan, nan, nan, nan, nan, nan, nan, nan, nan, nan, nan, nan, nan, nan, nan, nan, nan, nan, nan, nan, nan, nan, nan, nan, nan, nan, nan, nan, nan, 3737.25, nan, nan, nan, nan, nan, nan, nan, nan, nan, nan, nan, nan, nan, nan, nan, nan, nan, nan, nan, nan, nan, nan, nan, nan, nan, nan, nan, nan, nan, nan, nan, nan, nan, nan, nan, nan, nan, nan, nan, nan, nan, nan, nan, nan, nan, nan, nan, nan, nan, nan, nan, nan, nan, nan, nan, nan, nan, nan, nan, nan, nan, nan, nan, nan, nan, nan, nan, nan, nan, nan, nan, nan, nan, nan, nan, nan, nan, nan, nan, nan, nan, nan, nan, nan, nan, nan, nan, nan, nan, nan, nan, nan, nan, nan, nan, nan, nan, nan, nan, nan, nan, nan, nan, nan, nan, nan, nan, nan, nan, nan, nan, nan, nan, nan, nan, nan, nan, nan, nan, nan, nan, nan, nan, nan, nan, nan, nan, nan, nan, nan, nan, nan, nan, nan, nan, nan, nan, nan, nan, nan, nan, nan, nan, nan, nan, nan, 66247.5, 13048.75, 17063.75, 7227.0, nan, 9033.75, nan, 44165.0, 36135.0, 80300.0, 19071.25, 3613.5, 11041.25, nan, 54202.5, nan, 2810.5, 152927.23, nan, 4416.5, nan, nan, nan, 112420.0, nan, 15056.25, nan, nan, 22082.5, nan, 96360.0, 26097.5, nan, nan, nan, 401.5, nan, nan, 30112.5, nan, nan, 1606.0, nan, nan, nan, nan, nan, nan, nan, nan, nan, nan, nan, nan, 6022.5, 5219.5, nan, nan, nan, nan, nan, nan, nan, nan, nan, nan, nan, nan, nan, nan, nan, nan, nan, nan, nan, nan, nan, nan, nan, nan, nan, nan, nan, nan, nan, nan, nan, nan, nan, nan, nan, nan, nan, nan, nan, nan, nan, nan, nan, nan, nan, nan, nan, nan, nan, nan, nan, nan, nan, nan, nan, nan, nan, nan, nan, nan, nan, nan, nan, nan, nan, nan, nan, nan, nan, nan, nan, nan, nan, nan, nan, nan, nan, nan, nan, nan, nan, nan, nan, nan, nan, nan, nan, nan, nan, nan, nan, nan, nan, nan, nan, nan, nan, nan, nan, nan, nan, nan, nan, nan, nan, nan, nan, nan, nan, nan, nan, nan, nan, nan, nan, nan, nan, nan, nan, nan, nan, nan, nan, nan, nan, nan, nan, nan, nan, nan, nan, nan, nan, nan, nan, nan, nan, nan, nan, nan, nan, nan, nan, nan, nan, nan, nan, nan, nan, nan, nan, nan, nan, nan, nan, nan, nan, nan, nan, nan, nan, nan, nan, nan, nan, nan, nan, nan, nan, nan, nan, nan, nan, nan, nan, nan, nan, nan, nan, nan, nan, nan, nan, nan, nan, nan, nan, nan, nan, nan, nan, nan, nan, nan, nan, nan, nan, nan, nan, nan, nan, nan, nan, nan, nan, nan, 178712.46, 91920.0, 107240.0, 42130.0, 21065.0, 24895.0, 4213.0, 383.0, 6894.0, 18192.5, nan, 34470.0, 51705.0, nan, 76600.0, nan, nan, 63195.0, 28725.0, nan, nan, nan, nan, nan, nan, nan, nan, 12447.5, 16277.5, nan, 4979.0, nan, 14362.5, nan, 10532.5, 8617.5, nan, nan, nan, 1532.0, nan, nan, nan, nan, nan, nan, nan, nan, nan, nan, 5745.0, nan, nan, nan, 3447.0, nan, nan, 2681.0, nan, nan, nan, nan, nan, nan, nan, nan, nan, nan, nan, nan, nan, nan, nan, nan, nan, nan, nan, nan, nan, nan, nan, nan, nan, nan, nan, nan, nan, nan, nan, nan, nan, nan, nan, nan, nan, nan, nan, nan, nan, nan, nan, nan, nan, nan, nan, nan, nan, nan, nan, nan, nan, nan, nan, nan, nan, nan, nan, nan, nan, nan, nan, nan, nan, nan, nan, nan, nan, nan, nan, nan, nan, nan, nan, nan, nan, nan, nan, nan, nan, nan, nan, nan, nan, nan, nan, nan, nan, nan, nan, nan, nan, nan, nan, nan, nan, nan, nan, nan, nan, nan, nan, nan, nan, nan, nan, nan, nan, nan, nan, nan, nan, nan, nan, nan, nan, nan, nan, nan, nan, nan, nan, nan, nan, nan, nan, nan, nan, nan, nan, nan, nan, nan, nan, nan, nan, nan, nan, nan, nan, nan, nan, nan, nan, nan, nan, nan, nan, nan, nan, nan, nan, nan, nan, nan, nan, nan, nan, nan, nan, nan, nan, nan, nan, nan, nan, nan, nan, nan, nan, nan, nan, nan, nan, nan, nan, nan, nan, nan, nan, 60967.5, 160742.22, 33255.0, nan, nan, 12008.75, 73900.0, 8313.75, 13856.25, 17551.25, 20322.5, 49882.5, 5542.5, nan, 24017.5, 369.5, 88680.0, nan, 40645.0, nan, nan, nan, nan, 27712.5, 4803.5, 15703.75, nan, 2586.5, 103460.0, 10161.25, nan, nan, nan, 6651.0, nan, nan, nan, nan, nan, nan, nan, nan, 4064.5, nan, nan, nan, 1478.0, nan, nan, nan, nan, nan, nan, nan, nan, nan, nan, nan, nan, nan, nan, nan, nan, nan, nan, nan, nan, nan, nan, nan, nan, 3325.5, nan, nan, nan, nan, nan, nan, nan, nan, nan, nan, nan, nan, nan, nan, nan, nan, nan, nan, nan, nan, nan, nan, nan, nan, nan, nan, nan, nan, nan, nan, nan, nan, nan, nan, nan, nan, nan, nan, nan, nan, nan, nan, nan, nan, nan, nan, nan, nan, nan, nan, nan, nan, nan, nan, nan, nan, nan, nan, nan, nan, nan, nan, nan, nan, nan, nan, nan, nan, nan, nan, nan, nan, nan, nan, nan, nan, nan, nan, nan, nan, nan, nan, nan, nan, nan, nan, nan, nan, nan, nan, nan, nan, nan, nan, nan, nan, nan, nan, nan, nan, nan, nan, nan, nan, nan, nan, nan, nan, nan, nan, nan, nan, nan, nan, nan, nan, nan, nan, nan, nan, nan, nan, nan, nan, nan, nan, nan, nan, nan, nan, nan, nan, nan, nan, nan, nan, nan, nan, nan, nan, nan, nan, nan, nan, nan, nan, nan, nan, nan, nan, nan, nan, nan, nan, nan, nan, nan, nan, nan, nan, nan, nan, nan, nan, nan, nan, nan, nan, nan, 163843.85, 39930.0, 59895.0, 49005.0, 23595.0, 363.0, 6534.0, 9982.5, 32670.0, 3993.0, 27225.0, 19965.0, 72600.0, 17242.5, 15427.5, nan, nan, 87120.0, 116160.0, nan, 101640.0, nan, nan, 1452.0, nan, 13612.5, nan, nan, nan, 4719.0, nan, 8167.5, nan, nan, nan, nan, nan, nan, 11797.5, nan, nan, nan, nan, nan, nan, 5445.0, nan, nan, nan, nan, nan, nan, nan, nan, nan, nan, 2541.0, nan, nan, nan, nan, nan, nan, nan, nan, nan, nan, nan, nan, nan, nan, nan, nan, nan, nan, nan, nan, nan, nan, nan, nan, nan, nan, nan, nan, nan, nan, nan, nan, nan, nan, nan, nan, nan, nan, 3267.0, nan, nan, nan, nan, nan, nan, nan, nan, nan, nan, nan, nan, nan, nan, nan, nan, nan, nan, nan, nan, nan, nan, nan, nan, nan, nan, nan, nan, nan, nan, nan, nan, nan, nan, nan, nan, nan, nan, nan, nan, nan, nan, nan, nan, nan, nan, nan, nan, nan, nan, nan, nan, nan, nan, nan, nan, nan, nan, nan, nan, nan, nan, nan, nan, nan, nan, nan, nan, nan, nan, nan, nan, nan, nan, nan, nan, nan, nan, nan, nan, nan, nan, nan, nan, nan, nan, nan, nan, nan, nan, nan, nan, nan, nan, nan, nan, nan, nan, nan, nan, nan, nan, nan, nan, nan, nan, nan, nan, nan, nan, nan, nan, nan, nan, nan, nan, nan, nan, nan, nan, nan, nan, nan, nan, nan, nan, nan, nan, nan, nan, nan, nan, nan, nan, nan, nan, nan, nan, nan, nan, nan, nan, nan, nan, nan, nan, nan, nan, nan, nan, nan, nan, nan, nan, nan, nan, nan, nan, nan, nan, nan, nan, nan, nan, nan, nan, nan, nan, nan, nan, nan, nan, nan, nan, nan, nan, nan, nan, nan, nan, nan, nan, nan, nan, nan, nan, nan, nan, nan, nan, nan, nan, nan, nan, nan, nan, nan, nan, nan, 22782.5, 112160.0, 158201.84, nan, 13143.75, 38555.0, 3855.5, 70100.0, 14896.25, 16648.75, 84120.0, 1402.0, 47317.5, nan, 57832.5, nan, nan, 26287.5, 7886.25, nan, nan, nan, 98140.0, 31545.0, nan, 9638.75, nan, nan, 19277.5, 6309.0, 5257.5, nan, 11391.25, nan, nan, nan, nan, nan, nan, nan, nan, 350.5, nan, nan, 3154.5, nan, 2453.5, nan, nan, nan, nan, nan, nan, nan, nan, 4556.5, nan, nan, nan, nan, nan, nan, nan, nan, nan, nan, nan, nan, nan, nan, nan, nan, nan, nan, nan, nan, nan, nan, nan, nan, nan, nan, nan, nan, nan, nan, nan, nan, nan, nan, nan, nan, nan, nan, nan, nan, nan, nan, nan, nan, nan, nan, nan, nan, nan, nan, nan, nan, nan, nan, nan, nan, nan, nan, nan, nan, nan, nan, nan, nan, nan, nan, nan, nan, nan, nan, nan, nan, nan, nan, nan, nan, nan, nan, nan, nan, nan, nan, nan, nan, nan, nan, nan, nan, nan, nan, nan, nan, nan, nan, nan, nan, nan, nan, nan, nan, nan, nan, nan, nan, nan, nan, nan, nan, nan, nan, nan, nan, nan, nan, nan, nan, nan, nan, nan, nan, nan, nan, nan, nan, nan, nan, nan, nan, nan, nan, nan, nan, nan, nan, nan, nan, nan, nan, nan, nan, nan, nan, nan, nan, nan, nan, nan, nan, nan, nan, nan, nan, nan, nan, nan, nan, nan, nan, nan, nan, nan, nan, nan, nan, 168736.3, nan, 67200.0, 45360.0, 6048.0, 55440.0, 30240.0, nan, 80640.0, 14280.0, nan, 18480.0, 107520.0, nan, 36960.0, 15960.0, 94080.0, 7560.0, nan, nan, 10920.0, 21840.0, nan, nan, nan, nan, 9240.0, nan, 25200.0, nan, 1344.0, 12600.0, 4368.0, nan, nan, 336.0, 3024.0, 2352.0, nan, nan, nan, 5040.0, nan, nan, nan, nan, nan, nan, nan, nan, nan, nan, 3696.0, nan, nan, nan, nan, nan, nan, nan, nan, nan, nan, nan, nan, nan, nan, nan, nan, nan, nan, nan, nan, nan, nan, nan, nan, nan, nan, nan, nan, nan, nan, nan, nan, nan, nan, nan, nan, nan, nan, nan, nan, nan, nan, nan, nan, nan, nan, nan, nan, nan, nan, nan, nan, nan, nan, nan, nan, nan, nan, nan, nan, nan, nan, nan, nan, nan, nan, nan, nan, nan, nan, nan, nan, nan, nan, nan, nan, nan, nan, nan, nan, nan, nan, nan, nan, nan, nan, nan, nan, nan, nan, nan, nan, nan, nan, nan, nan, nan, nan, nan, nan, nan, nan, nan, nan, nan, nan, nan, nan, nan, nan, nan, nan, nan, nan, nan, nan, nan, nan, nan, nan, nan, nan, nan, nan, nan, nan, nan, nan, nan, nan, nan, nan, nan, nan, nan, nan, nan, nan, nan, nan, nan, nan, nan, nan, nan, nan, nan, nan, nan, nan, nan, nan, nan, nan, nan, nan, nan, nan, nan, nan, nan, nan, nan, nan, nan, nan, nan, nan, nan, nan, nan, nan, nan, nan, nan, nan, nan, nan, nan, nan, nan, nan, nan, nan, nan, nan, nan, nan, nan, nan, nan, nan, nan, nan, nan, nan, nan, nan, nan, nan, nan, nan, nan, nan, nan, nan, nan, nan, nan, nan, nan, nan, nan, nan, nan, nan, nan, nan, nan, nan, nan, nan, nan, nan, nan, nan, nan, nan, nan, nan, nan, nan, nan, nan, nan, nan, nan, nan, nan, nan, nan, nan, nan, nan, nan, nan, nan, nan, nan, nan, nan, nan, nan, nan, nan, nan, nan, nan, nan, nan, nan, nan, nan, nan, nan, nan, nan, nan, nan, nan, nan, nan, nan, nan, nan, nan, nan, nan, nan, nan, nan, nan, nan, nan, nan, nan, nan, nan, nan, nan, nan, nan, nan, nan, nan, nan, nan, nan, nan, nan, nan, nan, nan, nan, nan, nan, nan, nan, nan, nan, nan, nan, nan, nan, nan, nan, nan, nan, nan, nan, nan, nan, nan, nan, nan, nan, nan, nan, nan, nan, nan, nan, nan, nan, nan, nan, nan, nan, nan, nan, nan, nan, nan, nan, nan, nan, nan, nan, nan, nan, nan, nan, nan, nan, nan, nan, nan, nan, nan, nan, nan, nan, nan, nan, nan, nan, nan, nan, nan, nan, nan, nan, nan, nan, nan, nan, nan, nan, nan, nan, nan, nan, nan, nan, nan, nan, nan, nan, nan, nan, nan, nan, nan, nan, nan, nan, nan, nan, nan, nan, nan, nan, nan, nan, nan, nan, nan, nan, nan, nan, nan, nan, nan, nan, nan, nan, nan, nan, nan, nan, nan, nan, nan, nan, nan, nan, nan, nan, nan, nan, nan, nan, nan, nan, nan, nan, nan, nan, nan, nan, nan, nan, nan, nan, nan, nan, nan, nan, nan, nan, nan, nan, nan, nan, nan, nan, nan, nan, nan, nan, nan, nan, nan, nan, nan, nan, nan, nan, nan, nan, nan, nan, nan, nan, nan, nan, nan, nan, nan, nan, nan, nan, nan, nan, nan, nan, nan, nan, nan, nan, nan, nan, nan, nan, nan, nan, nan, nan, nan, nan, nan, nan, nan, nan, nan, nan, nan, nan, nan, nan, nan, nan, nan, nan, nan, nan, nan, nan, nan, nan, nan, nan, nan, nan, nan, nan, nan, nan, nan, nan, nan, nan, nan, nan, nan, nan, nan, nan, nan, nan, nan, nan, nan, nan, nan, nan, nan, nan, nan, nan, nan, nan, nan, nan, nan, nan, nan, nan, nan, nan, nan, nan, nan, nan, nan, nan, nan, nan, nan, nan, nan, nan, nan, nan, nan, nan, nan, nan, nan, nan, nan, nan, nan, nan, nan, nan, nan, nan, nan, nan, nan, nan, nan, nan, nan, nan, nan, nan, nan, nan, nan, nan, nan, nan, nan, nan, nan, nan, nan, nan, nan, nan, nan, nan, nan, nan, nan, nan, nan, nan, nan, nan, nan, nan, nan, nan, nan, nan, nan, nan, nan, nan, nan, nan, nan, nan, nan, nan, nan, nan, nan, nan, nan, nan, nan, nan, nan, nan, nan, nan, nan, nan, nan, nan, nan, nan, nan, nan, nan, nan, nan, nan, nan, nan, nan, nan, nan, nan, nan, nan, nan, nan, nan, nan, nan, nan]\n"
     ]
    }
   ],
   "source": [
    "# Income\n",
    "coninc_responses = []\n",
    "for response in df['coninc']:\n",
    "    if response not in coninc_responses:\n",
    "        coninc_responses.append(response)\n",
    "print(coninc_responses)"
   ]
  },
  {
   "cell_type": "code",
   "execution_count": 17,
   "id": "4eb15bf3",
   "metadata": {},
   "outputs": [
    {
     "name": "stdout",
     "output_type": "stream",
     "text": [
      "['poor', 'unanswered', 'good', 'excellent', 'fair']\n"
     ]
    }
   ],
   "source": [
    "# Health\n",
    "health_responses = []\n",
    "for response in df['health']:\n",
    "    if response not in health_responses:\n",
    "        health_responses.append(response)\n",
    "print(health_responses)"
   ]
  },
  {
   "cell_type": "code",
   "execution_count": 18,
   "id": "a83d5d9a",
   "metadata": {},
   "outputs": [
    {
     "name": "stdout",
     "output_type": "stream",
     "text": [
      "[48.0, 25.0, 42.0, 24.0, 31.0, 46.0, 52.0, 50.0, 32.0, 57.0, 62.0, 66.0, 34.0, 30.0, 27.0, 59.0, 19.0, 23.0, 35.0, 44.0, 78.0, 33.0, 21.0, 77.0, 70.0, 69.0, 26.0, 89.0, 37.0, 68.0, 83.0, 61.0, 72.0, 53.0, 79.0, 58.0, 36.0, 51.0, 56.0, 43.0, 40.0, 82.0, 41.0, 73.0, 85.0, 64.0, 22.0, 39.0, 75.0, 80.0, 49.0, 76.0, 60.0, 74.0, 28.0, 47.0, 63.0, 20.0, 55.0, 18.0, 81.0, 86.0, 67.0, 45.0, 84.0, 38.0, 65.0, 54.0, 29.0, 71.0, 87.0, 88.0]\n"
     ]
    }
   ],
   "source": [
    "# Age\n",
    "age_responses = []\n",
    "for response in df['age']:\n",
    "    if response not in age_responses:\n",
    "        age_responses.append(response)\n",
    "print(age_responses)"
   ]
  },
  {
   "cell_type": "code",
   "execution_count": 19,
   "id": "3c6ff25c",
   "metadata": {},
   "outputs": [],
   "source": [
    "# Ignoring unanswered/NAs on graphs because it is not relevant for analysis\n",
    "df = df[df['health'] != 'unanswered']\n",
    "df = df[df['happy'] != 'unanswered']\n",
    "df = df[df['marital'] != 'unanswered']\n",
    "# Cleaning marital column for graph specifics\n",
    "df['marital'] = df['marital'].apply(lambda x: 'not married' if x != 'married' else x)\n",
    "# Continuing ignoring unanswered\n",
    "df = df[df['degree'] != 'unanswered']\n",
    "df = df[df['sex'] != 'unanswered']"
   ]
  },
  {
   "cell_type": "markdown",
   "id": "c4f98a1b",
   "metadata": {},
   "source": [
    "# The Impact of Health and Age on Happiness"
   ]
  },
  {
   "cell_type": "markdown",
   "id": "de3d9e53",
   "metadata": {},
   "source": [
    "To begin, we can see the distribution of health quality across all of the data, without analyzing any certain variables other than health."
   ]
  },
  {
   "cell_type": "code",
   "execution_count": 20,
   "id": "b571efdb",
   "metadata": {},
   "outputs": [
    {
     "data": {
      "image/png": "[encoded data removed]",
      "text/plain": [
       "<Figure size 432x288 with 1 Axes>"
      ]
     },
     "metadata": {
      "needs_background": "light"
     },
     "output_type": "display_data"
    }
   ],
   "source": [
    "health_order = ['poor', 'fair', 'good', 'excellent']\n",
    "\n",
    "health_counts = df['health'].value_counts().reindex(health_order)\n",
    "\n",
    "health_counts.plot(kind='bar', color='hotpink', edgecolor='black')\n",
    "\n",
    "plt.title('Distribution of Health')\n",
    "plt.xlabel('Health')\n",
    "plt.ylabel('Frequency')\n",
    "plt.xticks(rotation=0) \n",
    "\n",
    "plt.show()"
   ]
  },
  {
   "cell_type": "markdown",
   "id": "82fd16a3",
   "metadata": {},
   "source": [
    "As well as the distribution for happiness, to see the entire scope of the data we are working with."
   ]
  },
  {
   "cell_type": "markdown",
   "id": "9abc9aee",
   "metadata": {},
   "source": [
    "# The impact of age on the gender wage gap:"
   ]
  },
  {
   "cell_type": "code",
   "execution_count": 21,
   "id": "0317534c",
   "metadata": {},
   "outputs": [
    {
     "data": {
      "image/png": "[encoded data removed]",
      "text/plain": [
       "<Figure size 432x288 with 1 Axes>"
      ]
     },
     "metadata": {
      "needs_background": "light"
     },
     "output_type": "display_data"
    }
   ],
   "source": [
    "df['happy'].value_counts().sort_index().plot(kind='bar', color='darkgreen', edgecolor='black')\n",
    "plt.title('Distribution of Happiness')\n",
    "plt.xlabel('Happiness')\n",
    "plt.ylabel('Frequency')\n",
    "plt.xticks(rotation=0)  # Rotate x-axis labels if needed\n",
    "plt.show()"
   ]
  },
  {
   "cell_type": "markdown",
   "id": "24b62e3c",
   "metadata": {},
   "source": [
    "As mentioned before, we will not look at the 'unanswered' data in our actualy analytical graphs, as it is not necessary in making insights."
   ]
  },
  {
   "cell_type": "code",
   "execution_count": 22,
   "id": "472ad73a",
   "metadata": {},
   "outputs": [],
   "source": [
    "df = df[df['health'] != 'unanswered']"
   ]
  },
  {
   "cell_type": "code",
   "execution_count": 23,
   "id": "9ea68d91",
   "metadata": {},
   "outputs": [
    {
     "data": {
      "image/png": "[encoded data removed]",
      "text/plain": [
       "<Figure size 729.5x432 with 1 Axes>"
      ]
     },
     "metadata": {
      "needs_background": "light"
     },
     "output_type": "display_data"
    }
   ],
   "source": [
    "df['health'] = pd.Categorical(df['health'], categories=health_order, ordered=True)\n",
    "\n",
    "sns.catplot(x='happy', hue='health', data=df, kind='count', height=6, aspect=1.5, palette='pastel')\n",
    "\n",
    "plt.title('Count of Respondents by Happiness and Health')\n",
    "plt.xlabel('Respondent Happiness')\n",
    "plt.ylabel('Count')\n",
    "\n",
    "plt.show()"
   ]
  },
  {
   "cell_type": "markdown",
   "id": "b028c844",
   "metadata": {},
   "source": [
    "Here we can see that the largest number of respondents reported being \"pretty happy\" and having \"good health.\" Across all levels of happiness, \"poor health\" has the fewest respondents, which could suggest a general trend that individuals with \"poor health are less likely to report high levels of happiness. In conclusion, this graph shows that higher happiness levels are associated with a greater proportion of respondents reporting \"good\" and \"excellent\" health."
   ]
  },
  {
   "cell_type": "markdown",
   "id": "c44ca7b3",
   "metadata": {},
   "source": [
    "To begin looking at age, we can first analyze the density of age groups that we are working with. As seen in the kernal density plout, our data evenly consists of most age groups, with the exception of older age groups (75+) and younger (<20)."
   ]
  },
  {
   "cell_type": "code",
   "execution_count": 24,
   "id": "56a7672f",
   "metadata": {},
   "outputs": [
    {
     "data": {
      "image/png": "[encoded data removed]",
      "text/plain": [
       "<Figure size 432x288 with 1 Axes>"
      ]
     },
     "metadata": {
      "needs_background": "light"
     },
     "output_type": "display_data"
    }
   ],
   "source": [
    "sns.kdeplot(data=df['age'], fill=True, color='darkgreen')\n",
    "plt.title('Kernel Density Plot of Age')\n",
    "plt.xlabel('Age')\n",
    "plt.ylabel('Density')\n",
    "plt.show()"
   ]
  },
  {
   "cell_type": "code",
   "execution_count": 25,
   "id": "051345cd",
   "metadata": {},
   "outputs": [
    {
     "data": {
      "text/plain": [
       "<Axes: xlabel='age', ylabel='Density'>"
      ]
     },
     "execution_count": 25,
     "metadata": {},
     "output_type": "execute_result"
    },
    {
     "data": {
      "image/png": "[encoded data removed]",
      "text/plain": [
       "<Figure size 432x288 with 1 Axes>"
      ]
     },
     "metadata": {
      "needs_background": "light"
     },
     "output_type": "display_data"
    }
   ],
   "source": [
    "sns.kdeplot(data=df,x='age',hue='health', palette='Dark2')"
   ]
  },
  {
   "cell_type": "markdown",
   "id": "d0c761d1",
   "metadata": {},
   "source": [
    "Here we can see the \"excellent\" health condition has a high peak and is left-skewed, suggesting that a high density of younger individuals report excellent health, and it decreases with age.The \"good\" health condition seems to be more evenly distributed across ages, with a peak around middle age, suggesting that \"good\" health is reported consistently across a wider age range. The \"fair\" health condition has a lower peak and appears to be more common in middle-aged to older adults, with its distribution slightly right-skewed. The \"poor\" health condition has the lowest density, which could indicate it's less frequently reported overall. The distribution is right-skewed, implying that it becomes more common as age increases, particularly in the older age range.There seems to be a general trend of health conditions moving from \"excellent\" to \"poor\" as age increases. Younger people tend to report better health, while older individuals tend to report \"fair\" or \"poor\" health conditions more often.\n",
    "\n",
    "We can also examine numerical statistics for each of these groups:"
   ]
  },
  {
   "cell_type": "code",
   "execution_count": 26,
   "id": "5bd4a162",
   "metadata": {},
   "outputs": [
    {
     "name": "stderr",
     "output_type": "stream",
     "text": [
      "/var/folders/r7/8yfx5p116t50w33dph81nh4c0000gn/T/ipykernel_16281/2876624414.py:1: FutureWarning: The default of observed=False is deprecated and will be changed to True in a future version of pandas. Pass observed=False to retain current behavior or observed=True to adopt the future default and silence this warning.\n",
      "  df.loc[:,['health','age']].groupby('health').describe()\n"
     ]
    },
    {
     "data": {
      "text/html": [
       "<div>\n",
       "<style scoped>\n",
       "    .dataframe tbody tr th:only-of-type {\n",
       "        vertical-align: middle;\n",
       "    }\n",
       "\n",
       "    .dataframe tbody tr th {\n",
       "        vertical-align: top;\n",
       "    }\n",
       "\n",
       "    .dataframe thead tr th {\n",
       "        text-align: left;\n",
       "    }\n",
       "\n",
       "    .dataframe thead tr:last-of-type th {\n",
       "        text-align: right;\n",
       "    }\n",
       "</style>\n",
       "<table border=\"1\" class=\"dataframe\">\n",
       "  <thead>\n",
       "    <tr>\n",
       "      <th></th>\n",
       "      <th colspan=\"8\" halign=\"left\">age</th>\n",
       "    </tr>\n",
       "    <tr>\n",
       "      <th></th>\n",
       "      <th>count</th>\n",
       "      <th>mean</th>\n",
       "      <th>std</th>\n",
       "      <th>min</th>\n",
       "      <th>25%</th>\n",
       "      <th>50%</th>\n",
       "      <th>75%</th>\n",
       "      <th>max</th>\n",
       "    </tr>\n",
       "    <tr>\n",
       "      <th>health</th>\n",
       "      <th></th>\n",
       "      <th></th>\n",
       "      <th></th>\n",
       "      <th></th>\n",
       "      <th></th>\n",
       "      <th></th>\n",
       "      <th></th>\n",
       "      <th></th>\n",
       "    </tr>\n",
       "  </thead>\n",
       "  <tbody>\n",
       "    <tr>\n",
       "      <th>poor</th>\n",
       "      <td>932.0</td>\n",
       "      <td>55.152361</td>\n",
       "      <td>16.260380</td>\n",
       "      <td>18.0</td>\n",
       "      <td>44.0</td>\n",
       "      <td>56.0</td>\n",
       "      <td>66.0</td>\n",
       "      <td>89.0</td>\n",
       "    </tr>\n",
       "    <tr>\n",
       "      <th>fair</th>\n",
       "      <td>3703.0</td>\n",
       "      <td>51.142047</td>\n",
       "      <td>18.088408</td>\n",
       "      <td>18.0</td>\n",
       "      <td>36.0</td>\n",
       "      <td>51.0</td>\n",
       "      <td>65.0</td>\n",
       "      <td>89.0</td>\n",
       "    </tr>\n",
       "    <tr>\n",
       "      <th>good</th>\n",
       "      <td>8604.0</td>\n",
       "      <td>49.308113</td>\n",
       "      <td>17.451956</td>\n",
       "      <td>18.0</td>\n",
       "      <td>35.0</td>\n",
       "      <td>49.0</td>\n",
       "      <td>63.0</td>\n",
       "      <td>89.0</td>\n",
       "    </tr>\n",
       "    <tr>\n",
       "      <th>excellent</th>\n",
       "      <td>3949.0</td>\n",
       "      <td>46.659661</td>\n",
       "      <td>17.469111</td>\n",
       "      <td>18.0</td>\n",
       "      <td>32.0</td>\n",
       "      <td>45.0</td>\n",
       "      <td>60.0</td>\n",
       "      <td>89.0</td>\n",
       "    </tr>\n",
       "  </tbody>\n",
       "</table>\n",
       "</div>"
      ],
      "text/plain": [
       "              age                                                    \n",
       "            count       mean        std   min   25%   50%   75%   max\n",
       "health                                                               \n",
       "poor        932.0  55.152361  16.260380  18.0  44.0  56.0  66.0  89.0\n",
       "fair       3703.0  51.142047  18.088408  18.0  36.0  51.0  65.0  89.0\n",
       "good       8604.0  49.308113  17.451956  18.0  35.0  49.0  63.0  89.0\n",
       "excellent  3949.0  46.659661  17.469111  18.0  32.0  45.0  60.0  89.0"
      ]
     },
     "execution_count": 26,
     "metadata": {},
     "output_type": "execute_result"
    }
   ],
   "source": [
    "df.loc[:,['health','age']].groupby('health').describe()\n",
    "# Poorest health mean person is around 55 years old"
   ]
  },
  {
   "cell_type": "markdown",
   "id": "29351d72",
   "metadata": {},
   "source": [
    "Age and health probably coincide to explains one's lifetime happiness level fluctuations due to the similarity of the two graphs."
   ]
  },
  {
   "cell_type": "code",
   "execution_count": 27,
   "id": "87a761e0",
   "metadata": {},
   "outputs": [
    {
     "data": {
      "text/plain": [
       "<Axes: xlabel='age', ylabel='Density'>"
      ]
     },
     "execution_count": 27,
     "metadata": {},
     "output_type": "execute_result"
    },
    {
     "data": {
      "image/png": "[encoded data removed]",
      "text/plain": [
       "<Figure size 432x288 with 1 Axes>"
      ]
     },
     "metadata": {
      "needs_background": "light"
     },
     "output_type": "display_data"
    }
   ],
   "source": [
    "# Graph of age v happiness\n",
    "sns.kdeplot(data=df,x='age',hue='happy', palette='Dark2')"
   ]
  },
  {
   "cell_type": "code",
   "execution_count": 35,
   "id": "1e9b646a",
   "metadata": {},
   "outputs": [
    {
     "data": {
      "text/html": [
       "<div>\n",
       "<style scoped>\n",
       "    .dataframe tbody tr th:only-of-type {\n",
       "        vertical-align: middle;\n",
       "    }\n",
       "\n",
       "    .dataframe tbody tr th {\n",
       "        vertical-align: top;\n",
       "    }\n",
       "\n",
       "    .dataframe thead tr th {\n",
       "        text-align: left;\n",
       "    }\n",
       "\n",
       "    .dataframe thead tr:last-of-type th {\n",
       "        text-align: right;\n",
       "    }\n",
       "</style>\n",
       "<table border=\"1\" class=\"dataframe\">\n",
       "  <thead>\n",
       "    <tr>\n",
       "      <th></th>\n",
       "      <th colspan=\"8\" halign=\"left\">age</th>\n",
       "    </tr>\n",
       "    <tr>\n",
       "      <th></th>\n",
       "      <th>count</th>\n",
       "      <th>mean</th>\n",
       "      <th>std</th>\n",
       "      <th>min</th>\n",
       "      <th>25%</th>\n",
       "      <th>50%</th>\n",
       "      <th>75%</th>\n",
       "      <th>max</th>\n",
       "    </tr>\n",
       "    <tr>\n",
       "      <th>happy</th>\n",
       "      <th></th>\n",
       "      <th></th>\n",
       "      <th></th>\n",
       "      <th></th>\n",
       "      <th></th>\n",
       "      <th></th>\n",
       "      <th></th>\n",
       "      <th></th>\n",
       "    </tr>\n",
       "  </thead>\n",
       "  <tbody>\n",
       "    <tr>\n",
       "      <th>not too happy</th>\n",
       "      <td>3147.0</td>\n",
       "      <td>49.688910</td>\n",
       "      <td>17.863333</td>\n",
       "      <td>18.0</td>\n",
       "      <td>35.0</td>\n",
       "      <td>50.0</td>\n",
       "      <td>64.0</td>\n",
       "      <td>89.0</td>\n",
       "    </tr>\n",
       "    <tr>\n",
       "      <th>pretty happy</th>\n",
       "      <td>9502.0</td>\n",
       "      <td>48.992949</td>\n",
       "      <td>17.687973</td>\n",
       "      <td>18.0</td>\n",
       "      <td>34.0</td>\n",
       "      <td>48.0</td>\n",
       "      <td>63.0</td>\n",
       "      <td>89.0</td>\n",
       "    </tr>\n",
       "    <tr>\n",
       "      <th>very happy</th>\n",
       "      <td>4539.0</td>\n",
       "      <td>50.095836</td>\n",
       "      <td>17.399268</td>\n",
       "      <td>18.0</td>\n",
       "      <td>35.0</td>\n",
       "      <td>50.0</td>\n",
       "      <td>64.0</td>\n",
       "      <td>89.0</td>\n",
       "    </tr>\n",
       "  </tbody>\n",
       "</table>\n",
       "</div>"
      ],
      "text/plain": [
       "                  age                                                    \n",
       "                count       mean        std   min   25%   50%   75%   max\n",
       "happy                                                                    \n",
       "not too happy  3147.0  49.688910  17.863333  18.0  35.0  50.0  64.0  89.0\n",
       "pretty happy   9502.0  48.992949  17.687973  18.0  34.0  48.0  63.0  89.0\n",
       "very happy     4539.0  50.095836  17.399268  18.0  35.0  50.0  64.0  89.0"
      ]
     },
     "execution_count": 35,
     "metadata": {},
     "output_type": "execute_result"
    }
   ],
   "source": [
    "df.loc[:,['happy','age']].groupby('happy').describe()"
   ]
  },
  {
   "cell_type": "markdown",
   "id": "61cf9a90",
   "metadata": {},
   "source": [
    "When these two graphs and sets of data are combined, they suggest that younger individuals tend to report higher happiness and better health, which both appear to decrease with age. However, there is also a presence of happiness among the older populations, despite a shift towards lower health ratings. This data shines light on how age-related changes may influence one's sense of happiness and health."
   ]
  },
  {
   "cell_type": "markdown",
   "id": "413deacc",
   "metadata": {},
   "source": [
    "# The Impact of Income and Degree on Happiness"
   ]
  },
  {
   "cell_type": "markdown",
   "id": "9eeed93b",
   "metadata": {},
   "source": [
    "The majority of our data for income (coninc) is coming largely from families that have incomes on the lower end of the scale."
   ]
  },
  {
   "cell_type": "code",
   "execution_count": 48,
   "id": "9a85bf2a",
   "metadata": {},
   "outputs": [
    {
     "data": {
      "image/png": "[encoded data removed]",
      "text/plain": [
       "<Figure size 432x288 with 1 Axes>"
      ]
     },
     "metadata": {
      "needs_background": "light"
     },
     "output_type": "display_data"
    }
   ],
   "source": [
    "sns.kdeplot(data= df['coninc'], fill=True, color='darkgreen')\n",
    "plt.title('Kernel Density Plot of TFI')\n",
    "plt.xlabel('coninc')\n",
    "plt.ylabel('Density')\n",
    "plt.show()"
   ]
  },
  {
   "cell_type": "markdown",
   "id": "d977280f",
   "metadata": {},
   "source": [
    "Like in the previous section, we can look for any visual trends that stand out."
   ]
  },
  {
   "cell_type": "code",
   "execution_count": 30,
   "id": "6041a05e",
   "metadata": {},
   "outputs": [
    {
     "data": {
      "text/plain": [
       "<Axes: xlabel='coninc', ylabel='Density'>"
      ]
     },
     "execution_count": 30,
     "metadata": {},
     "output_type": "execute_result"
    },
    {
     "data": {
      "image/png": "[encoded data removed]",
      "text/plain": [
       "<Figure size 432x288 with 1 Axes>"
      ]
     },
     "metadata": {
      "needs_background": "light"
     },
     "output_type": "display_data"
    }
   ],
   "source": [
    "sns.kdeplot(data=df,x='coninc',hue='happy', palette='Dark2')"
   ]
  },
  {
   "cell_type": "markdown",
   "id": "70fbaaeb",
   "metadata": {},
   "source": [
    "The highest point on each curve represents the most common income range for each level of happiness. For instance, \"pretty happy\" individuals most commonly fall into the lower income range, just like the \"not too happy\" individuals, but the mode of their income is slightly higher. Those who are \"very happy\" have another peak at a higher income range, suggesting that there is a significant number of very happy individuals at this higher income level as well. The \"not too happy\" group has a narrower peak and doesn't show as much presence in the higher income range, indicating that fewer people in this group reach the higher income levels.\n",
    "\n",
    "There may be a correlation between income and happiness, as the \"very happy\" group extends further into higher income levels compared to the \"not too happy\" group, but the \"pretty happy\" group seems to have the widest distribution, implying that factors other than income may have a strong influence on the reported level of happiness. We will create a boxplot to further visualize this data."
   ]
  },
  {
   "cell_type": "code",
   "execution_count": 49,
   "id": "a25f7373",
   "metadata": {},
   "outputs": [
    {
     "data": {
      "image/png": "[encoded data removed]",
      "text/plain": [
       "<Figure size 720x432 with 1 Axes>"
      ]
     },
     "metadata": {
      "needs_background": "light"
     },
     "output_type": "display_data"
    }
   ],
   "source": [
    "happiness_order = ['not too happy', 'pretty happy', 'very happy']\n",
    "plt.figure(figsize=(10, 6))\n",
    "sns.boxplot(x='happy', y='coninc', data=df, order=happiness_order,\n",
    "            color=\"hotpink\")\n",
    "plt.xlabel('Respondent Happiness')\n",
    "plt.ylabel('coninc')\n",
    "plt.title('Income vs Happiness')\n",
    "plt.show()"
   ]
  },
  {
   "cell_type": "markdown",
   "id": "d8d765fe",
   "metadata": {},
   "source": [
    "There are outliers in all categories, but they are most notable in the \"not too happy\" and \"very happy\" categories. This indicates that there are people with high incomes in all happiness categories. While there seems to be a trend that higher income corresponds with higher levels of happiness, there are clearly exceptions, as seen by the outliers. This means that while there may be a general correlation, income is not the sole determinant of happiness."
   ]
  },
  {
   "cell_type": "code",
   "execution_count": 34,
   "id": "86223c13",
   "metadata": {},
   "outputs": [
    {
     "data": {
      "text/html": [
       "<div>\n",
       "<style scoped>\n",
       "    .dataframe tbody tr th:only-of-type {\n",
       "        vertical-align: middle;\n",
       "    }\n",
       "\n",
       "    .dataframe tbody tr th {\n",
       "        vertical-align: top;\n",
       "    }\n",
       "\n",
       "    .dataframe thead tr th {\n",
       "        text-align: left;\n",
       "    }\n",
       "\n",
       "    .dataframe thead tr:last-of-type th {\n",
       "        text-align: right;\n",
       "    }\n",
       "</style>\n",
       "<table border=\"1\" class=\"dataframe\">\n",
       "  <thead>\n",
       "    <tr>\n",
       "      <th></th>\n",
       "      <th colspan=\"8\" halign=\"left\">coninc</th>\n",
       "    </tr>\n",
       "    <tr>\n",
       "      <th></th>\n",
       "      <th>count</th>\n",
       "      <th>mean</th>\n",
       "      <th>std</th>\n",
       "      <th>min</th>\n",
       "      <th>25%</th>\n",
       "      <th>50%</th>\n",
       "      <th>75%</th>\n",
       "      <th>max</th>\n",
       "    </tr>\n",
       "    <tr>\n",
       "      <th>happy</th>\n",
       "      <th></th>\n",
       "      <th></th>\n",
       "      <th></th>\n",
       "      <th></th>\n",
       "      <th></th>\n",
       "      <th></th>\n",
       "      <th></th>\n",
       "      <th></th>\n",
       "    </tr>\n",
       "  </thead>\n",
       "  <tbody>\n",
       "    <tr>\n",
       "      <th>not too happy</th>\n",
       "      <td>2804.0</td>\n",
       "      <td>34572.906915</td>\n",
       "      <td>35197.770383</td>\n",
       "      <td>336.0</td>\n",
       "      <td>10920.0</td>\n",
       "      <td>23595.0</td>\n",
       "      <td>45360.0</td>\n",
       "      <td>178712.46</td>\n",
       "    </tr>\n",
       "    <tr>\n",
       "      <th>pretty happy</th>\n",
       "      <td>8593.0</td>\n",
       "      <td>51531.176877</td>\n",
       "      <td>44142.944682</td>\n",
       "      <td>336.0</td>\n",
       "      <td>19277.5</td>\n",
       "      <td>38555.0</td>\n",
       "      <td>67200.0</td>\n",
       "      <td>178712.46</td>\n",
       "    </tr>\n",
       "    <tr>\n",
       "      <th>very happy</th>\n",
       "      <td>4074.0</td>\n",
       "      <td>62245.232408</td>\n",
       "      <td>48640.708493</td>\n",
       "      <td>336.0</td>\n",
       "      <td>25200.0</td>\n",
       "      <td>49005.0</td>\n",
       "      <td>83050.0</td>\n",
       "      <td>178712.46</td>\n",
       "    </tr>\n",
       "  </tbody>\n",
       "</table>\n",
       "</div>"
      ],
      "text/plain": [
       "               coninc                                                       \\\n",
       "                count          mean           std    min      25%      50%   \n",
       "happy                                                                        \n",
       "not too happy  2804.0  34572.906915  35197.770383  336.0  10920.0  23595.0   \n",
       "pretty happy   8593.0  51531.176877  44142.944682  336.0  19277.5  38555.0   \n",
       "very happy     4074.0  62245.232408  48640.708493  336.0  25200.0  49005.0   \n",
       "\n",
       "                                   \n",
       "                   75%        max  \n",
       "happy                              \n",
       "not too happy  45360.0  178712.46  \n",
       "pretty happy   67200.0  178712.46  \n",
       "very happy     83050.0  178712.46  "
      ]
     },
     "execution_count": 34,
     "metadata": {},
     "output_type": "execute_result"
    }
   ],
   "source": [
    "df.loc[:,['happy','coninc']].groupby('happy').describe()"
   ]
  },
  {
   "cell_type": "markdown",
   "id": "4f8dafee",
   "metadata": {},
   "source": [
    "Overall, it is evident that higher income tends to lead to greater happiness levels, however, a lot of outliers are seen with higher total family income values who also answered they were not too happy (least happiest response). Despite the outliers, there is a general trend showing that higher income correlates with a happier state. We will look into degrees, which is strongly correlated with income."
   ]
  },
  {
   "cell_type": "code",
   "execution_count": 37,
   "id": "225969d0",
   "metadata": {},
   "outputs": [
    {
     "data": {
      "image/png": "[encoded data removed]",
      "text/plain": [
       "<Figure size 720x432 with 1 Axes>"
      ]
     },
     "metadata": {
      "needs_background": "light"
     },
     "output_type": "display_data"
    }
   ],
   "source": [
    "educ_order = ['graduate',  \"bachelor's\",  'associate/junior college',\n",
    "              'high school', 'less than high school']\n",
    "df['degree'] = pd.Categorical(df['degree'], categories=educ_order,\n",
    "                              ordered=True)\n",
    "plt.figure(figsize=(10, 6))\n",
    "sns.boxplot(x='happy', y='degree', data=df, order=happiness_order,\n",
    "            hue_order=educ_order, color=\"darkgreen\")\n",
    "plt.xlabel('Respondent Happiness')\n",
    "plt.ylabel('Respondent Degree/Education Level')\n",
    "plt.title('Degree/Education Level vs Happiness')\n",
    "plt.show()"
   ]
  },
  {
   "cell_type": "markdown",
   "id": "b57b8cbd",
   "metadata": {},
   "source": [
    "The box plot suggests there could be a positive correlation between the level of education and reported happiness. As the education level increases, the median value of reported happiness appears to increase as well. This correlation goes along with our analysis above with income. Those with a high school education or less show a wider range in happiness levels than those with higher education, suggesting that higher education may be associated with not just increased happiness but also a more consistent level of happiness.\n",
    "\n",
    "There are outliers in the graduate category, indicating that there are some individuals with graduate degrees who are \"not too happy.\" This might suggest that higher education is not a guaranteed path to happiness for everyone."
   ]
  },
  {
   "cell_type": "code",
   "execution_count": 38,
   "id": "99dcfc23",
   "metadata": {},
   "outputs": [
    {
     "data": {
      "image/png": "[encoded data removed]",
      "text/plain": [
       "<Figure size 720x432 with 1 Axes>"
      ]
     },
     "metadata": {
      "needs_background": "light"
     },
     "output_type": "display_data"
    }
   ],
   "source": [
    "fig, ax = plt.subplots(1,1,figsize=(10,6))\n",
    "sns.countplot(x='degree', hue='happy', data=df, order=educ_order,\n",
    "              hue_order=happiness_order,  palette=\"Dark2\")\n",
    "plt.xlabel('Respondent Degree/Level of Education')\n",
    "plt.ylabel('Count')\n",
    "plt.title('Happiness Comparison: Degree/Level of Education')\n",
    "plt.show()\n",
    "     "
   ]
  },
  {
   "cell_type": "markdown",
   "id": "c1171259",
   "metadata": {},
   "source": [
    "Even at the lower education levels (high school and less than high school), there is a significant count of respondents who report being \"pretty happy\" and \"very happy,\" indicating that while there might be a trend towards higher happiness with more education, it is not absolute.\n",
    "\n",
    "There appears to be a higher count of respondents in the high school and bachelor's categories overall, which may reflect the general education demographics of the population from which the respondents were drawn.\n",
    "\n",
    "The data can be further shown through statistics below:"
   ]
  },
  {
   "cell_type": "code",
   "execution_count": 39,
   "id": "149b1baf",
   "metadata": {},
   "outputs": [
    {
     "data": {
      "text/html": [
       "<div>\n",
       "<style scoped>\n",
       "    .dataframe tbody tr th:only-of-type {\n",
       "        vertical-align: middle;\n",
       "    }\n",
       "\n",
       "    .dataframe tbody tr th {\n",
       "        vertical-align: top;\n",
       "    }\n",
       "\n",
       "    .dataframe thead tr th {\n",
       "        text-align: left;\n",
       "    }\n",
       "\n",
       "    .dataframe thead tr:last-of-type th {\n",
       "        text-align: right;\n",
       "    }\n",
       "</style>\n",
       "<table border=\"1\" class=\"dataframe\">\n",
       "  <thead>\n",
       "    <tr>\n",
       "      <th></th>\n",
       "      <th colspan=\"4\" halign=\"left\">degree</th>\n",
       "    </tr>\n",
       "    <tr>\n",
       "      <th></th>\n",
       "      <th>count</th>\n",
       "      <th>unique</th>\n",
       "      <th>top</th>\n",
       "      <th>freq</th>\n",
       "    </tr>\n",
       "    <tr>\n",
       "      <th>happy</th>\n",
       "      <th></th>\n",
       "      <th></th>\n",
       "      <th></th>\n",
       "      <th></th>\n",
       "    </tr>\n",
       "  </thead>\n",
       "  <tbody>\n",
       "    <tr>\n",
       "      <th>not too happy</th>\n",
       "      <td>3147</td>\n",
       "      <td>5</td>\n",
       "      <td>high school</td>\n",
       "      <td>1582</td>\n",
       "    </tr>\n",
       "    <tr>\n",
       "      <th>pretty happy</th>\n",
       "      <td>9502</td>\n",
       "      <td>5</td>\n",
       "      <td>high school</td>\n",
       "      <td>4645</td>\n",
       "    </tr>\n",
       "    <tr>\n",
       "      <th>very happy</th>\n",
       "      <td>4539</td>\n",
       "      <td>5</td>\n",
       "      <td>high school</td>\n",
       "      <td>1936</td>\n",
       "    </tr>\n",
       "  </tbody>\n",
       "</table>\n",
       "</div>"
      ],
      "text/plain": [
       "              degree                          \n",
       "               count unique          top  freq\n",
       "happy                                         \n",
       "not too happy   3147      5  high school  1582\n",
       "pretty happy    9502      5  high school  4645\n",
       "very happy      4539      5  high school  1936"
      ]
     },
     "execution_count": 39,
     "metadata": {},
     "output_type": "execute_result"
    }
   ],
   "source": [
    "df.loc[:,['happy','degree']].groupby('happy').describe()\n",
    "# Doesn't really give us anything"
   ]
  },
  {
   "cell_type": "markdown",
   "id": "e5b441cf",
   "metadata": {},
   "source": [
    "Overall, when considering both graphs, it appears that higher levels of education are associated with higher self-reported happiness. Both the box plot and the bar chart suggest that individuals with graduate and bachelor's degrees are more likely to report being \"pretty happy\" or \"very happy\" compared to those with lower education. However, there are numbers of individuals reporting happiness across all education levels, indicating that while there may be a positive correlation between education and happiness, education is not the sole determinant of one's happiness."
   ]
  },
  {
   "cell_type": "markdown",
   "id": "1c525b88",
   "metadata": {},
   "source": [
    "# The Impact of Marital Status and Sex on Happiness"
   ]
  },
  {
   "cell_type": "markdown",
   "id": "fa2f382c",
   "metadata": {},
   "source": [
    "Like in previous sections, we will start by looking at the distribution of respondents."
   ]
  },
  {
   "cell_type": "code",
   "execution_count": 41,
   "id": "fbe53303",
   "metadata": {},
   "outputs": [
    {
     "data": {
      "image/png": "[encoded data removed]",
      "text/plain": [
       "<Figure size 432x288 with 1 Axes>"
      ]
     },
     "metadata": {
      "needs_background": "light"
     },
     "output_type": "display_data"
    }
   ],
   "source": [
    "df['marital'].value_counts().sort_index().plot(kind='bar',\n",
    "                                              color='darkblue', edgecolor='black')\n",
    "plt.title('Distribution of Marital Status')\n",
    "plt.xlabel('Marital Status')\n",
    "plt.ylabel('Frequency')\n",
    "plt.xticks(rotation=0)  \n",
    "plt.show()"
   ]
  },
  {
   "cell_type": "markdown",
   "id": "5519eacf",
   "metadata": {},
   "source": [
    "From this, it appears that most respondents are not married, however married is not far behind in frequency, giving us a fairly even split. We will also breakdown the demographic data further by looking at sex, as it can provide additional context to these social patterns. Understanding the distribution of males and females in the sample might offer insights into whether marital status distribution is influenced by gender or if it's relatively consistent across both genders."
   ]
  },
  {
   "cell_type": "code",
   "execution_count": 42,
   "id": "b918e3a8",
   "metadata": {},
   "outputs": [
    {
     "data": {
      "image/png": "[encoded data removed]",
      "text/plain": [
       "<Figure size 432x288 with 1 Axes>"
      ]
     },
     "metadata": {
      "needs_background": "light"
     },
     "output_type": "display_data"
    }
   ],
   "source": [
    "df['sex'].value_counts().sort_index().plot(kind='bar',\n",
    "                                              color='pink', edgecolor='black')\n",
    "plt.title('Distribution of Sex')\n",
    "plt.xlabel('Sex')\n",
    "plt.ylabel('Frequency')\n",
    "plt.xticks(rotation=0)  \n",
    "plt.show()"
   ]
  },
  {
   "cell_type": "code",
   "execution_count": 43,
   "id": "9f9f6dd6",
   "metadata": {},
   "outputs": [
    {
     "data": {
      "image/png": "[encoded data removed]",
      "text/plain": [
       "<Figure size 720x432 with 1 Axes>"
      ]
     },
     "metadata": {
      "needs_background": "light"
     },
     "output_type": "display_data"
    }
   ],
   "source": [
    "fig, ax = plt.subplots(1,1,figsize=(10,6))\n",
    "sns.countplot(x='happy', hue='marital', data=df, order=happiness_order,\n",
    "              palette=\"Dark2\")\n",
    "plt.xlabel('Respondent Happiness')\n",
    "plt.ylabel('Count')\n",
    "plt.title('Happiness Comparison: Married vs. Not Married')\n",
    "plt.show()"
   ]
  },
  {
   "cell_type": "code",
   "execution_count": 44,
   "id": "903fa8b5",
   "metadata": {},
   "outputs": [
    {
     "data": {
      "text/html": [
       "<div>\n",
       "<style scoped>\n",
       "    .dataframe tbody tr th:only-of-type {\n",
       "        vertical-align: middle;\n",
       "    }\n",
       "\n",
       "    .dataframe tbody tr th {\n",
       "        vertical-align: top;\n",
       "    }\n",
       "\n",
       "    .dataframe thead tr th {\n",
       "        text-align: left;\n",
       "    }\n",
       "\n",
       "    .dataframe thead tr:last-of-type th {\n",
       "        text-align: right;\n",
       "    }\n",
       "</style>\n",
       "<table border=\"1\" class=\"dataframe\">\n",
       "  <thead>\n",
       "    <tr>\n",
       "      <th></th>\n",
       "      <th colspan=\"4\" halign=\"left\">marital</th>\n",
       "    </tr>\n",
       "    <tr>\n",
       "      <th></th>\n",
       "      <th>count</th>\n",
       "      <th>unique</th>\n",
       "      <th>top</th>\n",
       "      <th>freq</th>\n",
       "    </tr>\n",
       "    <tr>\n",
       "      <th>happy</th>\n",
       "      <th></th>\n",
       "      <th></th>\n",
       "      <th></th>\n",
       "      <th></th>\n",
       "    </tr>\n",
       "  </thead>\n",
       "  <tbody>\n",
       "    <tr>\n",
       "      <th>not too happy</th>\n",
       "      <td>3147</td>\n",
       "      <td>2</td>\n",
       "      <td>not married</td>\n",
       "      <td>2393</td>\n",
       "    </tr>\n",
       "    <tr>\n",
       "      <th>pretty happy</th>\n",
       "      <td>9502</td>\n",
       "      <td>2</td>\n",
       "      <td>not married</td>\n",
       "      <td>5347</td>\n",
       "    </tr>\n",
       "    <tr>\n",
       "      <th>very happy</th>\n",
       "      <td>4539</td>\n",
       "      <td>2</td>\n",
       "      <td>married</td>\n",
       "      <td>2938</td>\n",
       "    </tr>\n",
       "  </tbody>\n",
       "</table>\n",
       "</div>"
      ],
      "text/plain": [
       "              marital                          \n",
       "                count unique          top  freq\n",
       "happy                                          \n",
       "not too happy    3147      2  not married  2393\n",
       "pretty happy     9502      2  not married  5347\n",
       "very happy       4539      2      married  2938"
      ]
     },
     "execution_count": 44,
     "metadata": {},
     "output_type": "execute_result"
    }
   ],
   "source": [
    "df.loc[:,['happy','marital']].groupby('happy').describe()\n",
    "# More pretty and very happy people are married"
   ]
  },
  {
   "cell_type": "code",
   "execution_count": 46,
   "id": "6713ddde",
   "metadata": {},
   "outputs": [
    {
     "data": {
      "image/png": "[encoded data removed]",
      "text/plain": [
       "<Figure size 720x432 with 1 Axes>"
      ]
     },
     "metadata": {
      "needs_background": "light"
     },
     "output_type": "display_data"
    }
   ],
   "source": [
    "fig, ax = plt.subplots(1,1,figsize=(10,6))\n",
    "sns.countplot(x='happy', hue='sex', data=df, order=happiness_order,\n",
    "              palette=\"Dark2\")\n",
    "plt.xlabel('Respondent Happiness')\n",
    "plt.ylabel('Count')\n",
    "plt.title('Happiness Comparison: Sex')\n",
    "plt.show()"
   ]
  },
  {
   "cell_type": "markdown",
   "id": "966f36dc",
   "metadata": {},
   "source": [
    "Females make up the greatest percent in each happpiness level (perhaps this is due to more women completing the survey than men). Women are more unhappy but also more VERY happy."
   ]
  },
  {
   "cell_type": "code",
   "execution_count": 47,
   "id": "a5816f9f",
   "metadata": {},
   "outputs": [
    {
     "data": {
      "text/html": [
       "<div>\n",
       "<style scoped>\n",
       "    .dataframe tbody tr th:only-of-type {\n",
       "        vertical-align: middle;\n",
       "    }\n",
       "\n",
       "    .dataframe tbody tr th {\n",
       "        vertical-align: top;\n",
       "    }\n",
       "\n",
       "    .dataframe thead tr th {\n",
       "        text-align: left;\n",
       "    }\n",
       "\n",
       "    .dataframe thead tr:last-of-type th {\n",
       "        text-align: right;\n",
       "    }\n",
       "</style>\n",
       "<table border=\"1\" class=\"dataframe\">\n",
       "  <thead>\n",
       "    <tr>\n",
       "      <th></th>\n",
       "      <th colspan=\"4\" halign=\"left\">sex</th>\n",
       "    </tr>\n",
       "    <tr>\n",
       "      <th></th>\n",
       "      <th>count</th>\n",
       "      <th>unique</th>\n",
       "      <th>top</th>\n",
       "      <th>freq</th>\n",
       "    </tr>\n",
       "    <tr>\n",
       "      <th>happy</th>\n",
       "      <th></th>\n",
       "      <th></th>\n",
       "      <th></th>\n",
       "      <th></th>\n",
       "    </tr>\n",
       "  </thead>\n",
       "  <tbody>\n",
       "    <tr>\n",
       "      <th>not too happy</th>\n",
       "      <td>3147</td>\n",
       "      <td>2</td>\n",
       "      <td>female</td>\n",
       "      <td>1722</td>\n",
       "    </tr>\n",
       "    <tr>\n",
       "      <th>pretty happy</th>\n",
       "      <td>9502</td>\n",
       "      <td>2</td>\n",
       "      <td>female</td>\n",
       "      <td>5276</td>\n",
       "    </tr>\n",
       "    <tr>\n",
       "      <th>very happy</th>\n",
       "      <td>4539</td>\n",
       "      <td>2</td>\n",
       "      <td>female</td>\n",
       "      <td>2471</td>\n",
       "    </tr>\n",
       "  </tbody>\n",
       "</table>\n",
       "</div>"
      ],
      "text/plain": [
       "                sex                     \n",
       "              count unique     top  freq\n",
       "happy                                   \n",
       "not too happy  3147      2  female  1722\n",
       "pretty happy   9502      2  female  5276\n",
       "very happy     4539      2  female  2471"
      ]
     },
     "execution_count": 47,
     "metadata": {},
     "output_type": "execute_result"
    }
   ],
   "source": [
    "df.loc[:,['happy','sex']].groupby('happy').describe()\n",
    "# Females dominate all categories of happiness"
   ]
  },
  {
   "cell_type": "markdown",
   "id": "40f7ac59",
   "metadata": {},
   "source": [
    "From the bar graphs and data, we can see the largest group for both married and not married individuals falls into the \"pretty happy\" category. Married respondents do have a higher count in the \"very happy\" category than those who are not married. There's a notable number of not married individuals who are \"not too happy\" compared to their married counterparts. Being married may be associated with a greater likelihood of being \"very happy,\" although most respondents, regardless of marital status, report being \"pretty happy.\""
   ]
  },
  {
   "cell_type": "markdown",
   "id": "c233ba3c",
   "metadata": {},
   "source": [
    "# Conclusion \n",
    "\n",
    "To answer our research question of “Does more money actually equal happiness?”, our data yields us with the oversimplified answer of yes, it does in many cases. The goal of this project was to determine what life factors contribute or inhibit happiness, such as age, sex, health, income, education, and marital status. It aims to understand which of these characteristics are most correlated with happiness, examine the relationship between money and happiness and “happy wife, happy life.” In order to do so, using the codebook, variables believed to have the largest impact on happiness were selected, cleaned and then used to create a range of visualizations. \n",
    "\n",
    "Key findings from our analysis include a clear correlation between health status and happiness. This suggests that those who report better health, tend to also report higher levels of happiness. On the other hand, age did not show a strong correlation with happiness. The distribution across different age groups was pretty even, therefore no clear trend was found. For income, despite there being outliers, there was a correlation seen which showed higher incomes typically came with higher happiness levels. With this, since income is extremely correlated with degree, education levels did have an impact on happiness as well. Lastly, it was determined that those who are married tend to be on the more happier side, but overall the data showed that regardless of marital status, most respondents had higher happiness levels. \n",
    "\n",
    "Although happiness can be subjective, it is a critical aspect of humans that researchers have been able to study. This project leverages the General Social Survey, which is a reputable, widely used, and extremely informative. With this data and analysis, this project does indeed provide empirical insights. By using standardized survey questions and a range of numerous variables, this project does determine and reflect determinants of happiness. The findings are rooted in statistical data and analysis, making our results credible. While acknowledging that happiness varies based on individual experiences, this study utilizes a diverse population using statistical methods and various factors. \n",
    "\n",
    "Due to the scope of this project, there are aspects of happiness that were unable to be explored. A long-term research could give deeper insights into how the factors affect happiness, and how happiness levels change over time. This additional work could shed light on if the happiness is consistent or temporary when correlated with certain variables. Another project that could not be touched on is looking into more psychological variables. The variables used in this analysis were more social related and investigating psychological traits could give a deeper understanding of happiness. \n"
   ]
  }
 ],
 "metadata": {
  "kernelspec": {
   "display_name": "Python 3 (ipykernel)",
   "language": "python",
   "name": "python3"
  },
  "language_info": {
   "codemirror_mode": {
    "name": "ipython",
    "version": 3
   },
   "file_extension": ".py",
   "mimetype": "text/x-python",
   "name": "python",
   "nbconvert_exporter": "python",
   "pygments_lexer": "ipython3",
   "version": "3.9.12"
  }
 },
 "nbformat": 4,
 "nbformat_minor": 5
}
